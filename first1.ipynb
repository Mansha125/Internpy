{
  "nbformat": 4,
  "nbformat_minor": 0,
  "metadata": {
    "colab": {
      "provenance": [],
      "toc_visible": true,
      "authorship_tag": "ABX9TyP6IPV2nY+ZAK3j/SoFsrp3",
      "include_colab_link": true
    },
    "kernelspec": {
      "name": "python3",
      "display_name": "Python 3"
    },
    "language_info": {
      "name": "python"
    }
  },
  "cells": [
    {
      "cell_type": "markdown",
      "metadata": {
        "id": "view-in-github",
        "colab_type": "text"
      },
      "source": [
        "<a href=\"https://colab.research.google.com/github/Mansha125/Internpy/blob/Beginning/first1.ipynb\" target=\"_parent\"><img src=\"https://colab.research.google.com/assets/colab-badge.svg\" alt=\"Open In Colab\"/></a>"
      ]
    },
    {
      "cell_type": "code",
      "execution_count": null,
      "metadata": {
        "colab": {
          "base_uri": "https://localhost:8080/"
        },
        "id": "vBeeD-pbhl4M",
        "outputId": "64d4fc4e-9b8e-40a5-9fc1-9b0b7f008028"
      },
      "outputs": [
        {
          "output_type": "stream",
          "name": "stdout",
          "text": [
            "Enter two number\n",
            "45\n",
            "45\n",
            "The following operations\n",
            "90\n",
            "0\n",
            "2025\n",
            "1.0\n",
            "0\n"
          ]
        }
      ],
      "source": [
        "print(\"Enter two number\")\n",
        "a=input()\n",
        "b=input()\n",
        "print(\"The following operations\")\n",
        "print(int(a) + int(b))\n",
        "print(int(a) - int(b))\n",
        "print(int(a) * int(b))\n",
        "print(int(a) / int(b))\n",
        "print(int(a) % int(b))"
      ]
    }
  ]
}