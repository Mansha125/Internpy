{
  "nbformat": 4,
  "nbformat_minor": 0,
  "metadata": {
    "colab": {
      "provenance": [],
      "authorship_tag": "ABX9TyMS90iT2aKUXP/TVNwiVvfL",
      "include_colab_link": true
    },
    "kernelspec": {
      "name": "python3",
      "display_name": "Python 3"
    },
    "language_info": {
      "name": "python"
    }
  },
  "cells": [
    {
      "cell_type": "markdown",
      "metadata": {
        "id": "view-in-github",
        "colab_type": "text"
      },
      "source": [
        "<a href=\"https://colab.research.google.com/github/Mansha125/Internpy/blob/Beginning/exception.ipynb\" target=\"_parent\"><img src=\"https://colab.research.google.com/assets/colab-badge.svg\" alt=\"Open In Colab\"/></a>"
      ]
    },
    {
      "cell_type": "code",
      "execution_count": null,
      "metadata": {
        "colab": {
          "base_uri": "https://localhost:8080/"
        },
        "id": "JhazR-MWXvkb",
        "outputId": "601e84bc-a3d3-4659-cfc4-ffa634ae7232"
      },
      "outputs": [
        {
          "output_type": "stream",
          "name": "stdout",
          "text": [
            "Data type is not same.\n"
          ]
        }
      ],
      "source": [
        "a=100\n",
        "b=\"hello\"\n",
        "try:\n",
        "  z=a+b\n",
        "except:\n",
        "  print(\"Data type is not same.\")\n"
      ]
    },
    {
      "cell_type": "code",
      "source": [
        "for i in range(1,11):\n",
        "\n",
        "  try:\n",
        "    if i>5:\n",
        "      raise Exception(\"Greater than 5\")\n",
        "\n",
        "  except Exception as e:\n",
        "    print(e)\n",
        "\n"
      ],
      "metadata": {
        "colab": {
          "base_uri": "https://localhost:8080/"
        },
        "id": "E7_KG-a5ZNsX",
        "outputId": "2df6212f-6ef0-48e7-e324-62349cd225af"
      },
      "execution_count": null,
      "outputs": [
        {
          "output_type": "stream",
          "name": "stdout",
          "text": [
            "Greater than 5\n",
            "Greater than 5\n",
            "Greater than 5\n",
            "Greater than 5\n",
            "Greater than 5\n"
          ]
        }
      ]
    },
    {
      "cell_type": "code",
      "source": [
        "try:\n",
        "  for i in range(0,11):\n",
        "    print(i)\n",
        "    if i>=5:\n",
        "      raise Exception(\"Greater than 5\")\n",
        "\n",
        "except Exception as e:\n",
        "    print(e)\n",
        "else:\n",
        "    print(\"NO Error\")\n",
        "finally:\n",
        "    print(\"USED\")\n"
      ],
      "metadata": {
        "colab": {
          "base_uri": "https://localhost:8080/"
        },
        "id": "W5ZTiSUuehra",
        "outputId": "834eea9d-399c-4625-fe58-6b64d48b694f"
      },
      "execution_count": null,
      "outputs": [
        {
          "output_type": "stream",
          "name": "stdout",
          "text": [
            "0\n",
            "1\n",
            "2\n",
            "3\n",
            "4\n",
            "5\n",
            "Greater than 5\n",
            "USED\n"
          ]
        }
      ]
    }
  ]
}