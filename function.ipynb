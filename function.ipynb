{
  "nbformat": 4,
  "nbformat_minor": 0,
  "metadata": {
    "colab": {
      "provenance": [],
      "authorship_tag": "ABX9TyOoaArP+3oQE2hEK4GYoRR+",
      "include_colab_link": true
    },
    "kernelspec": {
      "name": "python3",
      "display_name": "Python 3"
    },
    "language_info": {
      "name": "python"
    }
  },
  "cells": [
    {
      "cell_type": "markdown",
      "metadata": {
        "id": "view-in-github",
        "colab_type": "text"
      },
      "source": [
        "<a href=\"https://colab.research.google.com/github/Mansha125/Internpy/blob/main/function.ipynb\" target=\"_parent\"><img src=\"https://colab.research.google.com/assets/colab-badge.svg\" alt=\"Open In Colab\"/></a>"
      ]
    },
    {
      "cell_type": "code",
      "execution_count": null,
      "metadata": {
        "colab": {
          "base_uri": "https://localhost:8080/"
        },
        "id": "IyR06sU5APDm",
        "outputId": "d34eebcb-f767-4fec-b921-5962b4bb9a52"
      },
      "outputs": [
        {
          "output_type": "stream",
          "name": "stdout",
          "text": [
            "45\n",
            "65\n",
            "110\n"
          ]
        }
      ],
      "source": [
        "num1=int(input())\n",
        "num2=int(input())\n",
        "def sum(num1, num2):\n",
        "  print(num1+num2)\n",
        "sum(num1,num2)"
      ]
    },
    {
      "cell_type": "code",
      "source": [
        "def last(*arg):\n",
        "\n",
        "  length=len(arg)\n",
        "  print(arg[length-1])\n",
        "last(1,2,5,4,5)\n",
        "last(4,5,8,9)\n",
        "last(4,5,6)\n",
        "last(4,3)\n",
        "\n",
        "\n"
      ],
      "metadata": {
        "colab": {
          "base_uri": "https://localhost:8080/"
        },
        "id": "wmg-1DFuCpK2",
        "outputId": "47871935-bb14-4f2a-8e0b-7a1c683d12b9"
      },
      "execution_count": null,
      "outputs": [
        {
          "output_type": "stream",
          "name": "stdout",
          "text": [
            "5\n",
            "9\n",
            "6\n",
            "3\n"
          ]
        }
      ]
    },
    {
      "cell_type": "code",
      "source": [
        "a=int(input())\n",
        "\n",
        "def arms(a):\n",
        "  x=1\n",
        "  while a>0:\n",
        "    rem=int(a%10)\n",
        "    a=int(a/10)\n",
        "    x=int(rem*x)\n",
        "print(x)"
      ],
      "metadata": {
        "id": "SQEidPAFGL4b",
        "colab": {
          "base_uri": "https://localhost:8080/"
        },
        "outputId": "6a4b0630-2e58-4c39-9e5b-9aaf187e7292"
      },
      "execution_count": 20,
      "outputs": [
        {
          "output_type": "stream",
          "name": "stdout",
          "text": [
            "123\n",
            "0\n"
          ]
        }
      ]
    },
    {
      "cell_type": "code",
      "source": [
        "x=int(input())\n",
        "def sum(num1,num2):\n",
        "    a=num1+num2\n",
        "    return (a)\n",
        "for i in range(x):\n",
        "  num1=int(input())\n",
        "  num2=int(input())\n",
        "  a=sum(num1,num2)\n",
        "  print(a)\n",
        "\n",
        "\n",
        "\n",
        "\n",
        ""
      ],
      "metadata": {
        "colab": {
          "base_uri": "https://localhost:8080/"
        },
        "id": "TOBPfhdEJ4gm",
        "outputId": "57a5b772-91d3-4615-feca-06f6fdd1d6ba"
      },
      "execution_count": 58,
      "outputs": [
        {
          "output_type": "stream",
          "name": "stdout",
          "text": [
            "2\n",
            "12\n",
            "12\n",
            "24\n",
            "52\n",
            "45\n",
            "97\n"
          ]
        }
      ]
    },
    {
      "cell_type": "code",
      "source": [],
      "metadata": {
        "id": "hNmhIjrVQQi2"
      },
      "execution_count": null,
      "outputs": []
    }
  ]
}