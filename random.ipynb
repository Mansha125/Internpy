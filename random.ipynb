{
  "nbformat": 4,
  "nbformat_minor": 0,
  "metadata": {
    "colab": {
      "provenance": [],
      "authorship_tag": "ABX9TyP4ESQgOLurAHkYUloxr4Sq",
      "include_colab_link": true
    },
    "kernelspec": {
      "name": "python3",
      "display_name": "Python 3"
    },
    "language_info": {
      "name": "python"
    }
  },
  "cells": [
    {
      "cell_type": "markdown",
      "metadata": {
        "id": "view-in-github",
        "colab_type": "text"
      },
      "source": [
        "<a href=\"https://colab.research.google.com/github/Mansha125/Internpy/blob/Beginning/random.ipynb\" target=\"_parent\"><img src=\"https://colab.research.google.com/assets/colab-badge.svg\" alt=\"Open In Colab\"/></a>"
      ]
    },
    {
      "cell_type": "code",
      "execution_count": 5,
      "metadata": {
        "colab": {
          "base_uri": "https://localhost:8080/"
        },
        "id": "aSaLIjPlr7bN",
        "outputId": "1e8c3896-d3ec-46e6-f414-e7e607766759"
      },
      "outputs": [
        {
          "output_type": "stream",
          "name": "stdout",
          "text": [
            "4\n",
            "45\n",
            "greater number\n",
            "enter a number:4\n",
            "Found on 2th trial\n",
            "countered 4\n"
          ]
        }
      ],
      "source": [
        "import random\n",
        "\n",
        "#loop for random number\n",
        "ran= random.randint(1,20)\n",
        "print(ran)\n",
        "count=1\n",
        "user=int(input())\n",
        "while not(ran==user):\n",
        "\n",
        "  if user<ran:\n",
        "    print(\"smaller number\")\n",
        "    count+=1\n",
        "\n",
        "  if user>ran:\n",
        "    print(\"greater number\")\n",
        "    count+=1\n",
        "  user=int(input(\"enter a number:\"))\n",
        "print(f\"Found on {count}th trial\")\n",
        "if user==ran:\n",
        "  print(\"countered\",ran)\n",
        "\n",
        "\n",
        "\n",
        "\n",
        "\n",
        "\n",
        "\n"
      ]
    },
    {
      "cell_type": "code",
      "source": [
        "print(\"Lets check your grade\")\n",
        "print(\"Enter your percentage\")\n",
        "perc=int(input())\n",
        "if perc<=100 and perc>=90:\n",
        "  grade=\"A+\"\n",
        "  print(f\"Your grade is {grade}\")\n",
        "elif perc<=90 and perc>=85:\n",
        "  grade=\"A\"\n",
        "  print(f\"Your grade is {grade}\")\n",
        "elif perc<=85 and perc>=75:\n",
        "  grade=\"B+\"\n",
        "  print(f\"Your grade is {grade}\")\n",
        "elif perc<=75 and perc>=60:\n",
        "  grade=\"B\"\n",
        "  print(f\"Your grade is {grade}\")\n",
        "else:\n",
        "  grade=\"C\"\n",
        "  print(f\"Your grade is {grade}\")\n"
      ],
      "metadata": {
        "colab": {
          "base_uri": "https://localhost:8080/"
        },
        "id": "B1XhDZ8jzVRR",
        "outputId": "dda9c065-6528-411d-ee2d-9f5a640b7194"
      },
      "execution_count": null,
      "outputs": [
        {
          "output_type": "stream",
          "name": "stdout",
          "text": [
            "Lets check your grade\n",
            "Enter your percentage\n",
            "51\n",
            "Your grade is C\n"
          ]
        }
      ]
    },
    {
      "cell_type": "code",
      "source": [],
      "metadata": {
        "id": "4QcsO2wkAUzD"
      },
      "execution_count": null,
      "outputs": []
    }
  ]
}