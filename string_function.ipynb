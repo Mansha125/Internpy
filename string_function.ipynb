{
  "nbformat": 4,
  "nbformat_minor": 0,
  "metadata": {
    "colab": {
      "provenance": [],
      "authorship_tag": "ABX9TyMidG8OEwON2U2tsyMwi8W3",
      "include_colab_link": true
    },
    "kernelspec": {
      "name": "python3",
      "display_name": "Python 3"
    },
    "language_info": {
      "name": "python"
    }
  },
  "cells": [
    {
      "cell_type": "markdown",
      "metadata": {
        "id": "view-in-github",
        "colab_type": "text"
      },
      "source": [
        "<a href=\"https://colab.research.google.com/github/Mansha125/Internpy/blob/Beginning/string_function.ipynb\" target=\"_parent\"><img src=\"https://colab.research.google.com/assets/colab-badge.svg\" alt=\"Open In Colab\"/></a>"
      ]
    },
    {
      "cell_type": "code",
      "execution_count": 2,
      "metadata": {
        "colab": {
          "base_uri": "https://localhost:8080/"
        },
        "id": "tsEeqYez1NNz",
        "outputId": "97115200-2a1d-4311-99be-78a841150cd2"
      },
      "outputs": [
        {
          "output_type": "stream",
          "name": "stdout",
          "text": [
            "AMEISM\n"
          ]
        }
      ],
      "source": [
        "var=\"MYNAMEISMANSHA\"\n",
        "str=var[3:9]\n",
        "print(str)"
      ]
    },
    {
      "cell_type": "code",
      "source": [
        "var=\"MYNAMEISMANSHA\"\n",
        "x=var.lower()\n",
        "print(x)\n",
        "y=x.upper()\n",
        "print(y)"
      ],
      "metadata": {
        "colab": {
          "base_uri": "https://localhost:8080/"
        },
        "id": "xeCnS15L2Aix",
        "outputId": "57384388-6286-4706-a28c-25c4e4d76a72"
      },
      "execution_count": 6,
      "outputs": [
        {
          "output_type": "stream",
          "name": "stdout",
          "text": [
            "mynameismansha\n",
            "MYNAMEISMANSHA\n"
          ]
        }
      ]
    },
    {
      "cell_type": "code",
      "source": [
        "var=\"     MY_NAME_IS_MANSHA     \"\n",
        "leng1=len(var)\n",
        "print(var)\n",
        "print(leng1)\n",
        "\n",
        "x=var.strip()\n",
        "leng2=len(x)\n",
        "print(x)\n",
        "print(leng2)\n"
      ],
      "metadata": {
        "colab": {
          "base_uri": "https://localhost:8080/"
        },
        "id": "3DbCvTcB2Z-M",
        "outputId": "a1c62b3c-a8ea-4c6a-e2b7-0fcbcd66dee6"
      },
      "execution_count": 15,
      "outputs": [
        {
          "output_type": "stream",
          "name": "stdout",
          "text": [
            "     MY_NAME_IS_MANSHA     \n",
            "27\n",
            "MY_NAME_IS_MANSHA\n",
            "17\n"
          ]
        }
      ]
    },
    {
      "cell_type": "code",
      "source": [
        "var=\"MY_NAME_IS_MANSHA\"\n",
        "print(var)\n",
        "x=var.replace(\"HA\",\"VI\")\n",
        "print(x)"
      ],
      "metadata": {
        "colab": {
          "base_uri": "https://localhost:8080/"
        },
        "id": "UsfP0zlb3WOA",
        "outputId": "4817cb91-69eb-422e-d151-9df3da9f93b9"
      },
      "execution_count": 18,
      "outputs": [
        {
          "output_type": "stream",
          "name": "stdout",
          "text": [
            "MY_NAME_IS_MANSHA\n",
            "MY_NAME_IS_MANSVI\n"
          ]
        }
      ]
    },
    {
      "cell_type": "code",
      "source": [
        "var=\"hi MY_NAME_IS_MANSHA hi noor hello  \"\n",
        "print(var)\n",
        "x=var.count(\"A\")\n",
        "y=var.count(\"hi\")\n",
        "print(x,y)\n"
      ],
      "metadata": {
        "colab": {
          "base_uri": "https://localhost:8080/"
        },
        "id": "--GPdq5z6v_N",
        "outputId": "8f0b00d6-a99b-43e0-fda6-9943b8450977"
      },
      "execution_count": 19,
      "outputs": [
        {
          "output_type": "stream",
          "name": "stdout",
          "text": [
            "hi MY_NAME_IS_MANSHA hi noor hello  \n",
            "3 2\n"
          ]
        }
      ]
    },
    {
      "cell_type": "code",
      "source": [
        "var=input(\"\")\n",
        "print(var)\n",
        "f=input(\"what to find\")\n",
        "x=var.find(f)\n",
        "print(x)"
      ],
      "metadata": {
        "colab": {
          "base_uri": "https://localhost:8080/"
        },
        "id": "DljqjskN8KY-",
        "outputId": "6326c480-8d2f-4940-a98a-422e7c824335"
      },
      "execution_count": 24,
      "outputs": [
        {
          "output_type": "stream",
          "name": "stdout",
          "text": [
            "linehi my name is mansha and mansvi too\n",
            "hi my name is mansha and mansvi too\n",
            "what to findm\n",
            "3\n"
          ]
        }
      ]
    },
    {
      "cell_type": "code",
      "source": [
        "var=\"MY_NAME_IS_M{3}A{2}N{0}S{1}H{name}A\"\n",
        "print(var)\n",
        "x=var.format(\"s\",\"y\",\"u\",\"d\",name=\"hi \")\n",
        "print(x)"
      ],
      "metadata": {
        "colab": {
          "base_uri": "https://localhost:8080/"
        },
        "id": "DBNnZosv9a1L",
        "outputId": "0d4bb3e3-9a7d-45cd-c49b-26284432265a"
      },
      "execution_count": 41,
      "outputs": [
        {
          "output_type": "stream",
          "name": "stdout",
          "text": [
            "MY_NAME_IS_M{3}A{2}N{0}S{1}H{name}A\n",
            "MY_NAME_IS_MdAuNsSyHhi A\n"
          ]
        }
      ]
    },
    {
      "cell_type": "code",
      "source": [],
      "metadata": {
        "id": "jxOXo1QO-2fG"
      },
      "execution_count": null,
      "outputs": []
    }
  ]
}