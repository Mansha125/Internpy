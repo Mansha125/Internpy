{
  "nbformat": 4,
  "nbformat_minor": 0,
  "metadata": {
    "colab": {
      "provenance": [],
      "authorship_tag": "ABX9TyNn4ZDSJTuQUWv31XR/T0oC",
      "include_colab_link": true
    },
    "kernelspec": {
      "name": "python3",
      "display_name": "Python 3"
    },
    "language_info": {
      "name": "python"
    }
  },
  "cells": [
    {
      "cell_type": "markdown",
      "metadata": {
        "id": "view-in-github",
        "colab_type": "text"
      },
      "source": [
        "<a href=\"https://colab.research.google.com/github/Mansha125/Internpy/blob/main/mysql3.ipynb\" target=\"_parent\"><img src=\"https://colab.research.google.com/assets/colab-badge.svg\" alt=\"Open In Colab\"/></a>"
      ]
    },
    {
      "cell_type": "code",
      "execution_count": null,
      "metadata": {
        "colab": {
          "base_uri": "https://localhost:8080/"
        },
        "id": "FQHT44OGNMt3",
        "outputId": "0fa2da49-452d-4137-f60c-5e1919ecb945"
      },
      "outputs": [
        {
          "output_type": "stream",
          "name": "stdout",
          "text": [
            "Requirement already satisfied: pandas in /usr/local/lib/python3.10/dist-packages (1.5.3)\n",
            "Requirement already satisfied: python-dateutil>=2.8.1 in /usr/local/lib/python3.10/dist-packages (from pandas) (2.8.2)\n",
            "Requirement already satisfied: pytz>=2020.1 in /usr/local/lib/python3.10/dist-packages (from pandas) (2023.4)\n",
            "Requirement already satisfied: numpy>=1.21.0 in /usr/local/lib/python3.10/dist-packages (from pandas) (1.23.5)\n",
            "Requirement already satisfied: six>=1.5 in /usr/local/lib/python3.10/dist-packages (from python-dateutil>=2.8.1->pandas) (1.16.0)\n"
          ]
        }
      ],
      "source": [
        "!pip install pandas\n"
      ]
    },
    {
      "cell_type": "code",
      "source": [
        "import pandas as pd\n",
        "dict={\n",
        "    'Name':[\"Mansvi\",\"Disha\",\"Rhea\",\"Aina\"],\n",
        "    'Sir_Name':[\"Sharma\",\"Kumari\",\"Bhardwaj\",\"Bano\"]\n",
        "}\n",
        "x=pd.DataFrame(dict)\n",
        "print(x)"
      ],
      "metadata": {
        "colab": {
          "base_uri": "https://localhost:8080/"
        },
        "id": "aHKJ1pa62ppq",
        "outputId": "d30d4395-615d-491f-9bc4-989b6e30c3f1"
      },
      "execution_count": null,
      "outputs": [
        {
          "output_type": "stream",
          "name": "stdout",
          "text": [
            "     Name  Sir_Name\n",
            "0  Mansvi    Sharma\n",
            "1   Disha    Kumari\n",
            "2    Rhea  Bhardwaj\n",
            "3    Aina      Bano\n"
          ]
        }
      ]
    },
    {
      "cell_type": "code",
      "source": [
        "from tabulate import tabulate\n",
        "import pandas as pd\n",
        "\n",
        "data={\n",
        "        'Name':[\"Mansvi\",\"Disha\",\"Rhea\",\"Aina\"],\n",
        "    'Sir_Name':[\"Sharma\",\"Kumari\",\"Bhardwaj\",\"Bano\"]\n",
        "      }\n",
        "x = pd.DataFrame(data)\n",
        "\n",
        "print(tabulate(x, headers = 'keys', tablefmt = 'psql'))"
      ],
      "metadata": {
        "colab": {
          "base_uri": "https://localhost:8080/"
        },
        "id": "RhyBW4oVOI4N",
        "outputId": "8b4478fb-eaa2-413f-8a3d-2d5e43ad1399"
      },
      "execution_count": null,
      "outputs": [
        {
          "output_type": "stream",
          "name": "stdout",
          "text": [
            "+----+--------+------------+\n",
            "|    | Name   | Sir_Name   |\n",
            "|----+--------+------------|\n",
            "|  0 | Mansvi | Sharma     |\n",
            "|  1 | Disha  | Kumari     |\n",
            "|  2 | Rhea   | Bhardwaj   |\n",
            "|  3 | Aina   | Bano       |\n",
            "+----+--------+------------+\n"
          ]
        }
      ]
    },
    {
      "cell_type": "code",
      "source": [
        "!apt-get -y install mysql-server\n",
        "!sudo service mysql start\n",
        "!sudo service status mysql\n",
        "!pip install mysql-connector-python\n",
        "\n",
        "import mysql.connector\n",
        "\n",
        "\n",
        "conn = mysql.connector.connect(user='root', password='root', unix_socket='/var/run/mysqld/mysqld.sock')\n",
        "\n",
        "cursor = conn.cursor()\n",
        "cursor.execute(\"CREATE DATABASE IF NOT EXISTS library\")\n",
        "\n",
        "\n",
        "cursor.execute(\"USE library\")\n",
        "\n",
        "cursor.execute('''\n",
        "CREATE TABLE IF NOT EXISTS books (\n",
        "    id INT AUTO_INCREMENT PRIMARY KEY,\n",
        "    title VARCHAR(255) NOT NULL,\n",
        "    author VARCHAR(255) NOT NULL,\n",
        "    year_published INT\n",
        ")\n",
        "''')\n",
        "\n",
        "\n",
        "books_data = [\n",
        "    (\"To Kill a Mockingbird\", \"Harper Lee\", 1960),\n",
        "    (\"1984\", \"George Orwell\", 1949),\n",
        "    (\"The Great Gatsby\", \"F. Scott Fitzgerald\", 1925)\n",
        "]\n",
        "\n",
        "# Insert data using the cursor\n",
        "cursor.executemany('''\n",
        "INSERT INTO books (title, author, year_published) VALUES (%s, %s, %s)\n",
        "''', books_data)\n",
        "\n",
        "\n",
        "\n",
        "# Commit the changes\n",
        "conn.commit()\n",
        "\n",
        "\n",
        "# Execute the SELECT query\n",
        "cursor.execute(\"SELECT * FROM books\")\n",
        "\n",
        "# Fetch all the results\n",
        "records = cursor.fetchall()\n",
        "\n",
        "# Print the records\n",
        "for record in records:\n",
        "    print(record)\n",
        "\n",
        "\n",
        "cursor.close()\n",
        "conn.close()\n"
      ],
      "metadata": {
        "colab": {
          "base_uri": "https://localhost:8080/"
        },
        "id": "cg2EdaBvclQu",
        "outputId": "300c3f55-817b-4f5d-df35-4c26cbeaab02"
      },
      "execution_count": 1,
      "outputs": [
        {
          "output_type": "stream",
          "name": "stdout",
          "text": [
            "Reading package lists... Done\n",
            "Building dependency tree... Done\n",
            "Reading state information... Done\n",
            "mysql-server is already the newest version (8.0.36-0ubuntu0.22.04.1).\n",
            "0 upgraded, 0 newly installed, 0 to remove and 32 not upgraded.\n",
            " * Starting MySQL database server mysqld\n",
            "   ...done.\n",
            "status: unrecognized service\n",
            "Requirement already satisfied: mysql-connector-python in /usr/local/lib/python3.10/dist-packages (8.3.0)\n",
            "(1, 'To Kill a Mockingbird', 'Harper Lee', 1960)\n",
            "(2, '1984', 'George Orwell', 1949)\n",
            "(3, 'The Great Gatsby', 'F. Scott Fitzgerald', 1925)\n",
            "(4, 'To Kill a Mockingbird', 'Harper Lee', 1960)\n",
            "(5, '1984', 'George Orwell', 1949)\n",
            "(6, 'The Great Gatsby', 'F. Scott Fitzgerald', 1925)\n",
            "(7, 'To Kill a Mockingbird', 'Null', 1960)\n",
            "(8, '1984', 'George Orwell', 1949)\n",
            "(9, 'The Great Gatsby', 'F. Scott Fitzgerald', 1925)\n",
            "(10, 'To Kill a Mockingbird', 'Null', 1960)\n",
            "(11, '1984', 'George Orwell', 1949)\n",
            "(12, 'The Great Gatsby', 'F. Scott Fitzgerald', 1925)\n",
            "(13, 'To Kill a Mockingbird', 'Harper Lee', 1960)\n",
            "(14, '1984', 'George Orwell', 1949)\n",
            "(15, 'The Great Gatsby', 'F. Scott Fitzgerald', 1925)\n",
            "(31, 'To Kill a Mockingbird', 'Harper Lee', 1960)\n",
            "(32, '1984', 'George Orwell', 1949)\n",
            "(33, 'The Great Gatsby', 'F. Scott Fitzgerald', 1925)\n",
            "(34, 'To Kill a Mockingbird', 'Harper Lee', 1960)\n",
            "(35, '1984', 'George Orwell', 1949)\n",
            "(36, 'The Great Gatsby', 'F. Scott Fitzgerald', 1925)\n",
            "(37, 'To Kill a Mockingbird', 'Harper Lee', 1960)\n",
            "(38, '1984', 'George Orwell', 1949)\n",
            "(39, 'The Great Gatsby', 'F. Scott Fitzgerald', 1925)\n"
          ]
        }
      ]
    },
    {
      "cell_type": "code",
      "source": [
        "\n",
        "!mysql  -u root -p -e \"update library.books set year_published=NULL where  title='1984'\"\n",
        "!mysql  -u root -p -e \"select * from library.books\""
      ],
      "metadata": {
        "colab": {
          "base_uri": "https://localhost:8080/"
        },
        "id": "gdJwP34Uj9c2",
        "outputId": "2401e70c-fe4b-4de4-977c-76294f7cc8f7"
      },
      "execution_count": 9,
      "outputs": [
        {
          "output_type": "stream",
          "name": "stdout",
          "text": [
            "Enter password: \n",
            "Enter password: \n",
            "+----+------------------+---------------------+----------------+\n",
            "| id | title            | author              | year_published |\n",
            "+----+------------------+---------------------+----------------+\n",
            "|  1 |                  | Harper Lee          |           1960 |\n",
            "|  2 | 1984             | George Orwell       |           NULL |\n",
            "|  3 | The Great Gatsby | F. Scott Fitzgerald |           1925 |\n",
            "|  4 |                  | Harper Lee          |           1960 |\n",
            "|  5 | 1984             | George Orwell       |           NULL |\n",
            "|  6 | The Great Gatsby | F. Scott Fitzgerald |           1925 |\n",
            "|  7 |                  | Null                |           1960 |\n",
            "|  8 | 1984             | George Orwell       |           NULL |\n",
            "|  9 | The Great Gatsby | F. Scott Fitzgerald |           1925 |\n",
            "| 10 |                  | Null                |           1960 |\n",
            "| 11 | 1984             | George Orwell       |           NULL |\n",
            "| 12 | The Great Gatsby | F. Scott Fitzgerald |           1925 |\n",
            "| 13 |                  | Harper Lee          |           1960 |\n",
            "| 14 | 1984             | George Orwell       |           NULL |\n",
            "| 15 | The Great Gatsby | F. Scott Fitzgerald |           1925 |\n",
            "| 31 |                  | Harper Lee          |           1960 |\n",
            "| 32 | 1984             | George Orwell       |           NULL |\n",
            "| 33 | The Great Gatsby | F. Scott Fitzgerald |           1925 |\n",
            "| 34 |                  | Harper Lee          |           1960 |\n",
            "| 35 | 1984             | George Orwell       |           NULL |\n",
            "| 36 | The Great Gatsby | F. Scott Fitzgerald |           1925 |\n",
            "| 37 |                  | Harper Lee          |           1960 |\n",
            "| 38 | 1984             | George Orwell       |           NULL |\n",
            "| 39 | The Great Gatsby | F. Scott Fitzgerald |           1925 |\n",
            "+----+------------------+---------------------+----------------+\n"
          ]
        }
      ]
    },
    {
      "cell_type": "code",
      "source": [
        "!mysql  -u root -p -e \"update library.books set year_published=NULL where  title='1984'\"\n",
        "!mysql  -u root -p -e \"select * from library.books\""
      ],
      "metadata": {
        "id": "-nbXqKPPpidS"
      },
      "execution_count": null,
      "outputs": []
    },
    {
      "cell_type": "code",
      "source": [
        "from tabulate import tabulate\n",
        "import pandas as pd\n",
        "\n",
        "# Connect to MySQL\n",
        "conn = mysql.connector.connect(user='root', password='root', host='localhost', database='library')\n",
        "\n",
        "# Fetch data into a pandas DataFrame\n",
        "query = \"SELECT * FROM books\"\n",
        "df = pd.read_sql(query, conn)\n",
        "\n",
        "x = pd.DataFrame(df)\n",
        "print(tabulate(x, headers = 'keys', tablefmt = 'psql'))\n",
        "\n"
      ],
      "metadata": {
        "colab": {
          "base_uri": "https://localhost:8080/"
        },
        "id": "BFtMZ75Redxh",
        "outputId": "48b4e4b0-f94e-4179-c49f-2a8d0d1f8691"
      },
      "execution_count": 10,
      "outputs": [
        {
          "output_type": "stream",
          "name": "stdout",
          "text": [
            "+----+------+------------------+---------------------+------------------+\n",
            "|    |   id | title            | author              |   year_published |\n",
            "|----+------+------------------+---------------------+------------------|\n",
            "|  0 |    1 |                  | Harper Lee          |             1960 |\n",
            "|  1 |    2 | 1984             | George Orwell       |              nan |\n",
            "|  2 |    3 | The Great Gatsby | F. Scott Fitzgerald |             1925 |\n",
            "|  3 |    4 |                  | Harper Lee          |             1960 |\n",
            "|  4 |    5 | 1984             | George Orwell       |              nan |\n",
            "|  5 |    6 | The Great Gatsby | F. Scott Fitzgerald |             1925 |\n",
            "|  6 |    7 |                  | Null                |             1960 |\n",
            "|  7 |    8 | 1984             | George Orwell       |              nan |\n",
            "|  8 |    9 | The Great Gatsby | F. Scott Fitzgerald |             1925 |\n",
            "|  9 |   10 |                  | Null                |             1960 |\n",
            "| 10 |   11 | 1984             | George Orwell       |              nan |\n",
            "| 11 |   12 | The Great Gatsby | F. Scott Fitzgerald |             1925 |\n",
            "| 12 |   13 |                  | Harper Lee          |             1960 |\n",
            "| 13 |   14 | 1984             | George Orwell       |              nan |\n",
            "| 14 |   15 | The Great Gatsby | F. Scott Fitzgerald |             1925 |\n",
            "| 15 |   31 |                  | Harper Lee          |             1960 |\n",
            "| 16 |   32 | 1984             | George Orwell       |              nan |\n",
            "| 17 |   33 | The Great Gatsby | F. Scott Fitzgerald |             1925 |\n",
            "| 18 |   34 |                  | Harper Lee          |             1960 |\n",
            "| 19 |   35 | 1984             | George Orwell       |              nan |\n",
            "| 20 |   36 | The Great Gatsby | F. Scott Fitzgerald |             1925 |\n",
            "| 21 |   37 |                  | Harper Lee          |             1960 |\n",
            "| 22 |   38 | 1984             | George Orwell       |              nan |\n",
            "| 23 |   39 | The Great Gatsby | F. Scott Fitzgerald |             1925 |\n",
            "+----+------+------------------+---------------------+------------------+\n"
          ]
        },
        {
          "output_type": "stream",
          "name": "stderr",
          "text": [
            "<ipython-input-10-483b715252ac>:9: UserWarning: pandas only supports SQLAlchemy connectable (engine/connection) or database string URI or sqlite3 DBAPI2 connection. Other DBAPI2 objects are not tested. Please consider using SQLAlchemy.\n",
            "  df = pd.read_sql(query, conn)\n"
          ]
        }
      ]
    }
  ]
}