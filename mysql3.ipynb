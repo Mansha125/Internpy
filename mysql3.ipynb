{
  "nbformat": 4,
  "nbformat_minor": 0,
  "metadata": {
    "colab": {
      "provenance": [],
      "authorship_tag": "ABX9TyMPDTY6W2E03Z1OrvpACrSc",
      "include_colab_link": true
    },
    "kernelspec": {
      "name": "python3",
      "display_name": "Python 3"
    },
    "language_info": {
      "name": "python"
    }
  },
  "cells": [
    {
      "cell_type": "markdown",
      "metadata": {
        "id": "view-in-github",
        "colab_type": "text"
      },
      "source": [
        "<a href=\"https://colab.research.google.com/github/Mansha125/Internpy/blob/Beginning/mysql3.ipynb\" target=\"_parent\"><img src=\"https://colab.research.google.com/assets/colab-badge.svg\" alt=\"Open In Colab\"/></a>"
      ]
    },
    {
      "cell_type": "code",
      "execution_count": null,
      "metadata": {
        "colab": {
          "base_uri": "https://localhost:8080/"
        },
        "id": "FQHT44OGNMt3",
        "outputId": "0fa2da49-452d-4137-f60c-5e1919ecb945"
      },
      "outputs": [
        {
          "output_type": "stream",
          "name": "stdout",
          "text": [
            "Requirement already satisfied: pandas in /usr/local/lib/python3.10/dist-packages (1.5.3)\n",
            "Requirement already satisfied: python-dateutil>=2.8.1 in /usr/local/lib/python3.10/dist-packages (from pandas) (2.8.2)\n",
            "Requirement already satisfied: pytz>=2020.1 in /usr/local/lib/python3.10/dist-packages (from pandas) (2023.4)\n",
            "Requirement already satisfied: numpy>=1.21.0 in /usr/local/lib/python3.10/dist-packages (from pandas) (1.23.5)\n",
            "Requirement already satisfied: six>=1.5 in /usr/local/lib/python3.10/dist-packages (from python-dateutil>=2.8.1->pandas) (1.16.0)\n"
          ]
        }
      ],
      "source": [
        "!pip install pandas\n"
      ]
    },
    {
      "cell_type": "code",
      "source": [
        "import pandas as pd\n",
        "dict={\n",
        "    'Name':[\"Mansvi\",\"Disha\",\"Rhea\",\"Aina\"],\n",
        "    'Sir_Name':[\"Sharma\",\"Kumari\",\"Bhardwaj\",\"Bano\"]\n",
        "}\n",
        "x=pd.DataFrame(dict)\n",
        "print(x)"
      ],
      "metadata": {
        "colab": {
          "base_uri": "https://localhost:8080/"
        },
        "id": "aHKJ1pa62ppq",
        "outputId": "d30d4395-615d-491f-9bc4-989b6e30c3f1"
      },
      "execution_count": null,
      "outputs": [
        {
          "output_type": "stream",
          "name": "stdout",
          "text": [
            "     Name  Sir_Name\n",
            "0  Mansvi    Sharma\n",
            "1   Disha    Kumari\n",
            "2    Rhea  Bhardwaj\n",
            "3    Aina      Bano\n"
          ]
        }
      ]
    },
    {
      "cell_type": "code",
      "source": [
        "from tabulate import tabulate\n",
        "import pandas as pd\n",
        "\n",
        "data={\n",
        "        'Name':[\"Mansvi\",\"Disha\",\"Rhea\",\"Aina\"],\n",
        "    'Sir_Name':[\"Sharma\",\"Kumari\",\"Bhardwaj\",\"Bano\"]\n",
        "      }\n",
        "x = pd.DataFrame(data)\n",
        "\n",
        "print(tabulate(x, headers = 'keys', tablefmt = 'psql'))"
      ],
      "metadata": {
        "colab": {
          "base_uri": "https://localhost:8080/"
        },
        "id": "RhyBW4oVOI4N",
        "outputId": "8b4478fb-eaa2-413f-8a3d-2d5e43ad1399"
      },
      "execution_count": null,
      "outputs": [
        {
          "output_type": "stream",
          "name": "stdout",
          "text": [
            "+----+--------+------------+\n",
            "|    | Name   | Sir_Name   |\n",
            "|----+--------+------------|\n",
            "|  0 | Mansvi | Sharma     |\n",
            "|  1 | Disha  | Kumari     |\n",
            "|  2 | Rhea   | Bhardwaj   |\n",
            "|  3 | Aina   | Bano       |\n",
            "+----+--------+------------+\n"
          ]
        }
      ]
    },
    {
      "cell_type": "code",
      "source": [
        "!apt-get -y install mysql-server\n",
        "!sudo service mysql start\n",
        "!sudo service status mysql\n",
        "!pip install mysql-connector-python\n",
        "\n",
        "import mysql.connector\n",
        "\n",
        "\n",
        "conn = mysql.connector.connect(user='root', password='root', unix_socket='/var/run/mysqld/mysqld.sock')\n",
        "\n",
        "cursor = conn.cursor()\n",
        "cursor.execute(\"CREATE DATABASE IF NOT EXISTS library\")\n",
        "\n",
        "\n",
        "cursor.execute(\"USE library\")\n",
        "\n",
        "cursor.execute('''\n",
        "CREATE TABLE IF NOT EXISTS books (\n",
        "    id INT AUTO_INCREMENT PRIMARY KEY,\n",
        "    title VARCHAR(255) NOT NULL,\n",
        "    author VARCHAR(255) NOT NULL,\n",
        "    year_published INT\n",
        ")\n",
        "''')\n",
        "\n",
        "\n",
        "books_data = [\n",
        "    (\"To Kill a Mockingbird\", \"Harper Lee\", 1960),\n",
        "    (\"1984\", \"George Orwell\", 1949),\n",
        "    (\"The Great Gatsby\", \"F. Scott Fitzgerald\", 1925)\n",
        "]\n",
        "\n",
        "# Insert data using the cursor\n",
        "cursor.executemany('''\n",
        "INSERT INTO books (title, author, year_published) VALUES (%s, %s, %s)\n",
        "''', books_data)\n",
        "\n",
        "\n",
        "\n",
        "# Commit the changes\n",
        "conn.commit()\n",
        "\n",
        "\n",
        "# Execute the SELECT query\n",
        "cursor.execute(\"SELECT * FROM books\")\n",
        "\n",
        "# Fetch all the results\n",
        "records = cursor.fetchall()\n",
        "\n",
        "# Print the records\n",
        "for record in records:\n",
        "    print(record)\n",
        "\n",
        "\n",
        "cursor.close()\n",
        "conn.close()\n"
      ],
      "metadata": {
        "colab": {
          "base_uri": "https://localhost:8080/"
        },
        "id": "cg2EdaBvclQu",
        "outputId": "300c3f55-817b-4f5d-df35-4c26cbeaab02"
      },
      "execution_count": null,
      "outputs": [
        {
          "output_type": "stream",
          "name": "stdout",
          "text": [
            "Reading package lists... Done\n",
            "Building dependency tree... Done\n",
            "Reading state information... Done\n",
            "mysql-server is already the newest version (8.0.36-0ubuntu0.22.04.1).\n",
            "0 upgraded, 0 newly installed, 0 to remove and 32 not upgraded.\n",
            " * Starting MySQL database server mysqld\n",
            "   ...done.\n",
            "status: unrecognized service\n",
            "Requirement already satisfied: mysql-connector-python in /usr/local/lib/python3.10/dist-packages (8.3.0)\n",
            "(1, 'To Kill a Mockingbird', 'Harper Lee', 1960)\n",
            "(2, '1984', 'George Orwell', 1949)\n",
            "(3, 'The Great Gatsby', 'F. Scott Fitzgerald', 1925)\n",
            "(4, 'To Kill a Mockingbird', 'Harper Lee', 1960)\n",
            "(5, '1984', 'George Orwell', 1949)\n",
            "(6, 'The Great Gatsby', 'F. Scott Fitzgerald', 1925)\n",
            "(7, 'To Kill a Mockingbird', 'Null', 1960)\n",
            "(8, '1984', 'George Orwell', 1949)\n",
            "(9, 'The Great Gatsby', 'F. Scott Fitzgerald', 1925)\n",
            "(10, 'To Kill a Mockingbird', 'Null', 1960)\n",
            "(11, '1984', 'George Orwell', 1949)\n",
            "(12, 'The Great Gatsby', 'F. Scott Fitzgerald', 1925)\n",
            "(13, 'To Kill a Mockingbird', 'Harper Lee', 1960)\n",
            "(14, '1984', 'George Orwell', 1949)\n",
            "(15, 'The Great Gatsby', 'F. Scott Fitzgerald', 1925)\n",
            "(31, 'To Kill a Mockingbird', 'Harper Lee', 1960)\n",
            "(32, '1984', 'George Orwell', 1949)\n",
            "(33, 'The Great Gatsby', 'F. Scott Fitzgerald', 1925)\n",
            "(34, 'To Kill a Mockingbird', 'Harper Lee', 1960)\n",
            "(35, '1984', 'George Orwell', 1949)\n",
            "(36, 'The Great Gatsby', 'F. Scott Fitzgerald', 1925)\n",
            "(37, 'To Kill a Mockingbird', 'Harper Lee', 1960)\n",
            "(38, '1984', 'George Orwell', 1949)\n",
            "(39, 'The Great Gatsby', 'F. Scott Fitzgerald', 1925)\n"
          ]
        }
      ]
    },
    {
      "cell_type": "code",
      "source": [
        "\n",
        "!mysql  -u root -p -e \"update library.books set year_published=NULL where  title='1984'\"\n",
        "!mysql  -u root -p -e \"select * from library.books\""
      ],
      "metadata": {
        "colab": {
          "base_uri": "https://localhost:8080/"
        },
        "id": "gdJwP34Uj9c2",
        "outputId": "2401e70c-fe4b-4de4-977c-76294f7cc8f7"
      },
      "execution_count": null,
      "outputs": [
        {
          "output_type": "stream",
          "name": "stdout",
          "text": [
            "Enter password: \n",
            "Enter password: \n",
            "+----+------------------+---------------------+----------------+\n",
            "| id | title            | author              | year_published |\n",
            "+----+------------------+---------------------+----------------+\n",
            "|  1 |                  | Harper Lee          |           1960 |\n",
            "|  2 | 1984             | George Orwell       |           NULL |\n",
            "|  3 | The Great Gatsby | F. Scott Fitzgerald |           1925 |\n",
            "|  4 |                  | Harper Lee          |           1960 |\n",
            "|  5 | 1984             | George Orwell       |           NULL |\n",
            "|  6 | The Great Gatsby | F. Scott Fitzgerald |           1925 |\n",
            "|  7 |                  | Null                |           1960 |\n",
            "|  8 | 1984             | George Orwell       |           NULL |\n",
            "|  9 | The Great Gatsby | F. Scott Fitzgerald |           1925 |\n",
            "| 10 |                  | Null                |           1960 |\n",
            "| 11 | 1984             | George Orwell       |           NULL |\n",
            "| 12 | The Great Gatsby | F. Scott Fitzgerald |           1925 |\n",
            "| 13 |                  | Harper Lee          |           1960 |\n",
            "| 14 | 1984             | George Orwell       |           NULL |\n",
            "| 15 | The Great Gatsby | F. Scott Fitzgerald |           1925 |\n",
            "| 31 |                  | Harper Lee          |           1960 |\n",
            "| 32 | 1984             | George Orwell       |           NULL |\n",
            "| 33 | The Great Gatsby | F. Scott Fitzgerald |           1925 |\n",
            "| 34 |                  | Harper Lee          |           1960 |\n",
            "| 35 | 1984             | George Orwell       |           NULL |\n",
            "| 36 | The Great Gatsby | F. Scott Fitzgerald |           1925 |\n",
            "| 37 |                  | Harper Lee          |           1960 |\n",
            "| 38 | 1984             | George Orwell       |           NULL |\n",
            "| 39 | The Great Gatsby | F. Scott Fitzgerald |           1925 |\n",
            "+----+------------------+---------------------+----------------+\n"
          ]
        }
      ]
    },
    {
      "cell_type": "code",
      "source": [
        "!mysql  -u root -p -e \"update library.books set year_published=NULL where  title='1984'\"\n",
        "!mysql  -u root -p -e \"select * from library.books\""
      ],
      "metadata": {
        "id": "-nbXqKPPpidS"
      },
      "execution_count": null,
      "outputs": []
    },
    {
      "cell_type": "code",
      "source": [
        "from tabulate import tabulate\n",
        "import pandas as pd\n",
        "\n",
        "# Connect to MySQL\n",
        "conn = mysql.connector.connect(user='root', password='root', host='localhost', database='library')\n",
        "\n",
        "# Fetch data into a pandas DataFrame\n",
        "query = \"SELECT * FROM books\"\n",
        "df = pd.read_sql(query, conn)\n",
        "\n",
        "x = pd.DataFrame(df)\n",
        "print(tabulate(x, headers = 'keys', tablefmt = 'psql'))\n",
        "\n"
      ],
      "metadata": {
        "colab": {
          "base_uri": "https://localhost:8080/"
        },
        "id": "BFtMZ75Redxh",
        "outputId": "48b4e4b0-f94e-4179-c49f-2a8d0d1f8691"
      },
      "execution_count": null,
      "outputs": [
        {
          "output_type": "stream",
          "name": "stdout",
          "text": [
            "+----+------+------------------+---------------------+------------------+\n",
            "|    |   id | title            | author              |   year_published |\n",
            "|----+------+------------------+---------------------+------------------|\n",
            "|  0 |    1 |                  | Harper Lee          |             1960 |\n",
            "|  1 |    2 | 1984             | George Orwell       |              nan |\n",
            "|  2 |    3 | The Great Gatsby | F. Scott Fitzgerald |             1925 |\n",
            "|  3 |    4 |                  | Harper Lee          |             1960 |\n",
            "|  4 |    5 | 1984             | George Orwell       |              nan |\n",
            "|  5 |    6 | The Great Gatsby | F. Scott Fitzgerald |             1925 |\n",
            "|  6 |    7 |                  | Null                |             1960 |\n",
            "|  7 |    8 | 1984             | George Orwell       |              nan |\n",
            "|  8 |    9 | The Great Gatsby | F. Scott Fitzgerald |             1925 |\n",
            "|  9 |   10 |                  | Null                |             1960 |\n",
            "| 10 |   11 | 1984             | George Orwell       |              nan |\n",
            "| 11 |   12 | The Great Gatsby | F. Scott Fitzgerald |             1925 |\n",
            "| 12 |   13 |                  | Harper Lee          |             1960 |\n",
            "| 13 |   14 | 1984             | George Orwell       |              nan |\n",
            "| 14 |   15 | The Great Gatsby | F. Scott Fitzgerald |             1925 |\n",
            "| 15 |   31 |                  | Harper Lee          |             1960 |\n",
            "| 16 |   32 | 1984             | George Orwell       |              nan |\n",
            "| 17 |   33 | The Great Gatsby | F. Scott Fitzgerald |             1925 |\n",
            "| 18 |   34 |                  | Harper Lee          |             1960 |\n",
            "| 19 |   35 | 1984             | George Orwell       |              nan |\n",
            "| 20 |   36 | The Great Gatsby | F. Scott Fitzgerald |             1925 |\n",
            "| 21 |   37 |                  | Harper Lee          |             1960 |\n",
            "| 22 |   38 | 1984             | George Orwell       |              nan |\n",
            "| 23 |   39 | The Great Gatsby | F. Scott Fitzgerald |             1925 |\n",
            "+----+------+------------------+---------------------+------------------+\n"
          ]
        },
        {
          "output_type": "stream",
          "name": "stderr",
          "text": [
            "<ipython-input-10-483b715252ac>:9: UserWarning: pandas only supports SQLAlchemy connectable (engine/connection) or database string URI or sqlite3 DBAPI2 connection. Other DBAPI2 objects are not tested. Please consider using SQLAlchemy.\n",
            "  df = pd.read_sql(query, conn)\n"
          ]
        }
      ]
    },
    {
      "cell_type": "code",
      "source": [
        "!pip install urllib3\n"
      ],
      "metadata": {
        "id": "a9B-jGtJsg9E",
        "outputId": "4aab5d64-92aa-4cf5-f845-df0a2f1974b9",
        "colab": {
          "base_uri": "https://localhost:8080/"
        }
      },
      "execution_count": 5,
      "outputs": [
        {
          "output_type": "stream",
          "name": "stdout",
          "text": [
            "Requirement already satisfied: urllib3 in /usr/local/lib/python3.10/dist-packages (2.0.7)\n"
          ]
        }
      ]
    },
    {
      "cell_type": "code",
      "source": [
        "import urllib3\n",
        "import urllib.request"
      ],
      "metadata": {
        "id": "-4nhHzJdwudt"
      },
      "execution_count": 18,
      "outputs": []
    },
    {
      "cell_type": "code",
      "source": [
        "dir(urllib)"
      ],
      "metadata": {
        "id": "OXUStSxSydv2",
        "outputId": "776d4231-c7b9-414f-c158-63fe3e8181e8",
        "colab": {
          "base_uri": "https://localhost:8080/"
        }
      },
      "execution_count": 19,
      "outputs": [
        {
          "output_type": "execute_result",
          "data": {
            "text/plain": [
              "['__builtins__',\n",
              " '__cached__',\n",
              " '__doc__',\n",
              " '__file__',\n",
              " '__loader__',\n",
              " '__name__',\n",
              " '__package__',\n",
              " '__path__',\n",
              " '__spec__',\n",
              " 'error',\n",
              " 'parse',\n",
              " 'request',\n",
              " 'response']"
            ]
          },
          "metadata": {},
          "execution_count": 19
        }
      ]
    },
    {
      "cell_type": "code",
      "source": [
        "dir(urllib.request)"
      ],
      "metadata": {
        "id": "S_X-oOmPzPIF",
        "outputId": "90810491-8449-4496-c1d5-f96e948071a1",
        "colab": {
          "base_uri": "https://localhost:8080/"
        }
      },
      "execution_count": 20,
      "outputs": [
        {
          "output_type": "execute_result",
          "data": {
            "text/plain": [
              "['AbstractBasicAuthHandler',\n",
              " 'AbstractDigestAuthHandler',\n",
              " 'AbstractHTTPHandler',\n",
              " 'BaseHandler',\n",
              " 'CacheFTPHandler',\n",
              " 'ContentTooShortError',\n",
              " 'DataHandler',\n",
              " 'FTPHandler',\n",
              " 'FancyURLopener',\n",
              " 'FileHandler',\n",
              " 'HTTPBasicAuthHandler',\n",
              " 'HTTPCookieProcessor',\n",
              " 'HTTPDefaultErrorHandler',\n",
              " 'HTTPDigestAuthHandler',\n",
              " 'HTTPError',\n",
              " 'HTTPErrorProcessor',\n",
              " 'HTTPHandler',\n",
              " 'HTTPPasswordMgr',\n",
              " 'HTTPPasswordMgrWithDefaultRealm',\n",
              " 'HTTPPasswordMgrWithPriorAuth',\n",
              " 'HTTPRedirectHandler',\n",
              " 'HTTPSHandler',\n",
              " 'MAXFTPCACHE',\n",
              " 'OpenerDirector',\n",
              " 'ProxyBasicAuthHandler',\n",
              " 'ProxyDigestAuthHandler',\n",
              " 'ProxyHandler',\n",
              " 'Request',\n",
              " 'URLError',\n",
              " 'URLopener',\n",
              " 'UnknownHandler',\n",
              " '__all__',\n",
              " '__builtins__',\n",
              " '__cached__',\n",
              " '__doc__',\n",
              " '__file__',\n",
              " '__loader__',\n",
              " '__name__',\n",
              " '__package__',\n",
              " '__spec__',\n",
              " '__version__',\n",
              " '_cut_port_re',\n",
              " '_ftperrors',\n",
              " '_have_ssl',\n",
              " '_localhost',\n",
              " '_noheaders',\n",
              " '_opener',\n",
              " '_parse_proxy',\n",
              " '_proxy_bypass_macosx_sysconf',\n",
              " '_randombytes',\n",
              " '_safe_gethostbyname',\n",
              " '_splitattr',\n",
              " '_splithost',\n",
              " '_splitpasswd',\n",
              " '_splitport',\n",
              " '_splitquery',\n",
              " '_splittag',\n",
              " '_splittype',\n",
              " '_splituser',\n",
              " '_splitvalue',\n",
              " '_thishost',\n",
              " '_to_bytes',\n",
              " '_url_tempfiles',\n",
              " 'addclosehook',\n",
              " 'addinfourl',\n",
              " 'base64',\n",
              " 'bisect',\n",
              " 'build_opener',\n",
              " 'contextlib',\n",
              " 'email',\n",
              " 'ftpcache',\n",
              " 'ftperrors',\n",
              " 'ftpwrapper',\n",
              " 'getproxies',\n",
              " 'getproxies_environment',\n",
              " 'hashlib',\n",
              " 'http',\n",
              " 'install_opener',\n",
              " 'io',\n",
              " 'localhost',\n",
              " 'noheaders',\n",
              " 'os',\n",
              " 'parse_http_list',\n",
              " 'parse_keqv_list',\n",
              " 'pathname2url',\n",
              " 'posixpath',\n",
              " 'proxy_bypass',\n",
              " 'proxy_bypass_environment',\n",
              " 'quote',\n",
              " 're',\n",
              " 'request_host',\n",
              " 'socket',\n",
              " 'ssl',\n",
              " 'string',\n",
              " 'sys',\n",
              " 'tempfile',\n",
              " 'thishost',\n",
              " 'time',\n",
              " 'unquote',\n",
              " 'unquote_to_bytes',\n",
              " 'unwrap',\n",
              " 'url2pathname',\n",
              " 'urlcleanup',\n",
              " 'urljoin',\n",
              " 'urlopen',\n",
              " 'urlparse',\n",
              " 'urlretrieve',\n",
              " 'urlsplit',\n",
              " 'urlunparse',\n",
              " 'warnings']"
            ]
          },
          "metadata": {},
          "execution_count": 20
        }
      ]
    },
    {
      "cell_type": "code",
      "source": [
        "from urllib.request import urlopen\n",
        "#header> request> path> query"
      ],
      "metadata": {
        "id": "xISS6jbczPYV"
      },
      "execution_count": 22,
      "outputs": []
    },
    {
      "cell_type": "code",
      "source": [
        "web='https://www.geeksforgeeks.org/python-urllib-module/'\n",
        "print( web + '-' + web)\n",
        "web=urlopen('https://www.geeksforgeeks.org/python-urllib-module/')"
      ],
      "metadata": {
        "id": "YygeNI2z0B2g",
        "outputId": "241715c8-74e2-49d1-b9c3-84c73aedd884",
        "colab": {
          "base_uri": "https://localhost:8080/"
        }
      },
      "execution_count": 23,
      "outputs": [
        {
          "output_type": "stream",
          "name": "stdout",
          "text": [
            "https://www.geeksforgeeks.org/python-urllib-module/-https://www.geeksforgeeks.org/python-urllib-module/\n"
          ]
        }
      ]
    },
    {
      "cell_type": "code",
      "source": [
        "print(type(web))"
      ],
      "metadata": {
        "id": "PNpYwNKz0B53",
        "outputId": "223897fc-684b-4c3e-dda9-cf35bf51e4e2",
        "colab": {
          "base_uri": "https://localhost:8080/"
        }
      },
      "execution_count": 24,
      "outputs": [
        {
          "output_type": "stream",
          "name": "stdout",
          "text": [
            "<class 'http.client.HTTPResponse'>\n"
          ]
        }
      ]
    },
    {
      "cell_type": "code",
      "source": [
        "import  requests\n",
        "response = requests.get('https://reqres.in/api/users?page=2')\n",
        "print(response.text)"
      ],
      "metadata": {
        "id": "VnJKvXd40yq_",
        "outputId": "71ccf7f2-01be-4b9c-89fd-a5529fb4cdff",
        "colab": {
          "base_uri": "https://localhost:8080/"
        }
      },
      "execution_count": 33,
      "outputs": [
        {
          "output_type": "stream",
          "name": "stdout",
          "text": [
            "{\"page\":2,\"per_page\":6,\"total\":12,\"total_pages\":2,\"data\":[{\"id\":7,\"email\":\"michael.lawson@reqres.in\",\"first_name\":\"Michael\",\"last_name\":\"Lawson\",\"avatar\":\"https://reqres.in/img/faces/7-image.jpg\"},{\"id\":8,\"email\":\"lindsay.ferguson@reqres.in\",\"first_name\":\"Lindsay\",\"last_name\":\"Ferguson\",\"avatar\":\"https://reqres.in/img/faces/8-image.jpg\"},{\"id\":9,\"email\":\"tobias.funke@reqres.in\",\"first_name\":\"Tobias\",\"last_name\":\"Funke\",\"avatar\":\"https://reqres.in/img/faces/9-image.jpg\"},{\"id\":10,\"email\":\"byron.fields@reqres.in\",\"first_name\":\"Byron\",\"last_name\":\"Fields\",\"avatar\":\"https://reqres.in/img/faces/10-image.jpg\"},{\"id\":11,\"email\":\"george.edwards@reqres.in\",\"first_name\":\"George\",\"last_name\":\"Edwards\",\"avatar\":\"https://reqres.in/img/faces/11-image.jpg\"},{\"id\":12,\"email\":\"rachel.howell@reqres.in\",\"first_name\":\"Rachel\",\"last_name\":\"Howell\",\"avatar\":\"https://reqres.in/img/faces/12-image.jpg\"}],\"support\":{\"url\":\"https://reqres.in/#support-heading\",\"text\":\"To keep ReqRes free, contributions towards server costs are appreciated!\"}}\n"
          ]
        }
      ]
    },
    {
      "cell_type": "code",
      "source": [
        "import  requests\n",
        "\n",
        "res='https://colab.research.google.com/github/Mansha125/Internpy/blob/main/mysql3.ipynb#scrollTo=6LsF3Y4d1_hb'\n",
        "\n",
        "print(res)\n",
        "\n",
        "\n",
        "res= urlopen('https://colab.research.google.com/github/Mansha125/Internpy/blob/main/mysql3.ipynb#scrollTo=6LsF3Y4d1_hb')\n",
        "\n",
        "print(res.status)"
      ],
      "metadata": {
        "id": "6LsF3Y4d1_hb",
        "outputId": "448dda72-4a42-47f1-ea5d-8c56223adafa",
        "colab": {
          "base_uri": "https://localhost:8080/"
        }
      },
      "execution_count": 62,
      "outputs": [
        {
          "output_type": "stream",
          "name": "stdout",
          "text": [
            "https://colab.research.google.com/github/Mansha125/Internpy/blob/main/mysql3.ipynb#scrollTo=6LsF3Y4d1_hb\n",
            "200\n"
          ]
        }
      ]
    },
    {
      "cell_type": "code",
      "source": [
        "from urllib.request import Request, urlopen\n",
        "\n",
        "url = 'https://reqres.in/api/users?page=2'\n",
        "headers = {'User-Agent': 'Mozilla/5.0'}\n",
        "req = Request(url, headers=headers)\n",
        "webpage = urlopen(req).read()\n",
        "print(webpage)"
      ],
      "metadata": {
        "id": "RC32fBcO7Nvq",
        "outputId": "5f308ef2-8bcd-4d5f-cd34-34959cf80f7e",
        "colab": {
          "base_uri": "https://localhost:8080/"
        }
      },
      "execution_count": 61,
      "outputs": [
        {
          "output_type": "stream",
          "name": "stdout",
          "text": [
            "b'{\"page\":2,\"per_page\":6,\"total\":12,\"total_pages\":2,\"data\":[{\"id\":7,\"email\":\"michael.lawson@reqres.in\",\"first_name\":\"Michael\",\"last_name\":\"Lawson\",\"avatar\":\"https://reqres.in/img/faces/7-image.jpg\"},{\"id\":8,\"email\":\"lindsay.ferguson@reqres.in\",\"first_name\":\"Lindsay\",\"last_name\":\"Ferguson\",\"avatar\":\"https://reqres.in/img/faces/8-image.jpg\"},{\"id\":9,\"email\":\"tobias.funke@reqres.in\",\"first_name\":\"Tobias\",\"last_name\":\"Funke\",\"avatar\":\"https://reqres.in/img/faces/9-image.jpg\"},{\"id\":10,\"email\":\"byron.fields@reqres.in\",\"first_name\":\"Byron\",\"last_name\":\"Fields\",\"avatar\":\"https://reqres.in/img/faces/10-image.jpg\"},{\"id\":11,\"email\":\"george.edwards@reqres.in\",\"first_name\":\"George\",\"last_name\":\"Edwards\",\"avatar\":\"https://reqres.in/img/faces/11-image.jpg\"},{\"id\":12,\"email\":\"rachel.howell@reqres.in\",\"first_name\":\"Rachel\",\"last_name\":\"Howell\",\"avatar\":\"https://reqres.in/img/faces/12-image.jpg\"}],\"support\":{\"url\":\"https://reqres.in/#support-heading\",\"text\":\"To keep ReqRes free, contributions towards server costs are appreciated!\"}}'\n"
          ]
        }
      ]
    }
  ]
}