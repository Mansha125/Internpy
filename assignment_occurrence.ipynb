{
  "cells": [
    {
      "cell_type": "markdown",
      "metadata": {
        "id": "view-in-github",
        "colab_type": "text"
      },
      "source": [
        "<a href=\"https://colab.research.google.com/github/Mansha125/Internpy/blob/Beginning/assignment_occurrence.ipynb\" target=\"_parent\"><img src=\"https://colab.research.google.com/assets/colab-badge.svg\" alt=\"Open In Colab\"/></a>"
      ]
    },
    {
      "cell_type": "code",
      "execution_count": null,
      "metadata": {
        "colab": {
          "base_uri": "https://localhost:8080/"
        },
        "id": "gsVDSbnyGMrM",
        "outputId": "4d08b280-a5e1-4fa6-e2ed-3a66d83fdae1"
      },
      "outputs": [
        {
          "name": "stdout",
          "output_type": "stream",
          "text": [
            "5\n"
          ]
        }
      ],
      "source": [
        "n=int(input())\n",
        "fact=1\n",
        "def fct ():\n",
        "  for i in range(1,n+1):\n",
        "    fact=fact*i\n",
        "    return(fact)"
      ]
    },
    {
      "cell_type": "code",
      "execution_count": null,
      "metadata": {
        "colab": {
          "base_uri": "https://localhost:8080/"
        },
        "id": "6Yr8rFMAHQI3",
        "outputId": "87d1df2e-15e4-4e31-ec42-bf432cae6fae"
      },
      "outputs": [
        {
          "name": "stdout",
          "output_type": "stream",
          "text": [
            "1\n",
            "10\n",
            "1\n",
            "2\n",
            "3\n",
            "5\n",
            "7\n"
          ]
        }
      ],
      "source": [
        "a=int(input())\n",
        "b=int(input())\n",
        "for i in range(a,b+1):\n",
        "  flag=0\n",
        "  for j in range(2,i):\n",
        "    if i%j==0:\n",
        "      flag=1\n",
        "  if flag==0:\n",
        "    print(i)\n",
        "\n"
      ]
    },
    {
      "cell_type": "code",
      "execution_count": null,
      "metadata": {
        "colab": {
          "base_uri": "https://localhost:8080/"
        },
        "id": "k3lYK7nlLWuQ",
        "outputId": "b6e32843-7425-4253-dab7-aaa8bd44654c"
      },
      "outputs": [
        {
          "output_type": "stream",
          "name": "stdout",
          "text": [
            "1\n",
            "15\n",
            "1\n",
            "2\n",
            "3\n",
            "5\n",
            "7\n",
            "11\n",
            "13\n"
          ]
        }
      ],
      "source": [
        "a=int(input())\n",
        "b=int(input())\n",
        "for i in range(a,b+1):\n",
        "  flag=0\n",
        "  for j in range(2,i):\n",
        "    if i%j==0:\n",
        "      flag=1\n",
        "  if flag==0:\n",
        "    print(i)\n",
        "\n",
        "\n"
      ]
    },
    {
      "cell_type": "code",
      "execution_count": null,
      "metadata": {
        "colab": {
          "base_uri": "https://localhost:8080/"
        },
        "id": "Rxs4n9HIQiKm",
        "outputId": "c2059b05-3ffc-423d-e7bf-fe560e93491b"
      },
      "outputs": [
        {
          "output_type": "stream",
          "name": "stdout",
          "text": [
            "['My', 'name', 'is', 'mansvi']\n"
          ]
        }
      ],
      "source": [
        "a=\"My name is mansvi\"\n",
        "res= a.split()\n",
        "print(res)\n",
        "\n"
      ]
    },
    {
      "cell_type": "code",
      "execution_count": null,
      "metadata": {
        "colab": {
          "base_uri": "https://localhost:8080/"
        },
        "id": "YRHLRtAHNYUS",
        "outputId": "8842328a-cdd1-4086-e74c-56ef560ca9fc"
      },
      "outputs": [
        {
          "name": "stdout",
          "output_type": "stream",
          "text": [
            "My name is Mansha \n",
            " ahsnaM si eman yM\n"
          ]
        }
      ],
      "source": [
        "s=input()\n",
        "rev=\"\"\n",
        "length=len(s)\n",
        "while length >0:\n",
        "  length-=1\n",
        "  rev+= s[length]\n",
        "print(rev)\n"
      ]
    },
    {
      "cell_type": "code",
      "source": [
        "#print length\n",
        "str=input()\n",
        "leng=len(str)\n",
        "\n",
        "#accessing index\n",
        "for i in range(0,len(str)):\n",
        "  if not(i%2==0):\n",
        "    print(str[i])\n",
        "\n",
        "\n"
      ],
      "metadata": {
        "colab": {
          "base_uri": "https://localhost:8080/"
        },
        "id": "YLOmSPy-oPpB",
        "outputId": "9090990c-411d-4430-9de0-44bbe8f4bab3"
      },
      "execution_count": null,
      "outputs": [
        {
          "output_type": "stream",
          "name": "stdout",
          "text": [
            "mansvi\n",
            "a\n",
            "s\n",
            "i\n"
          ]
        }
      ]
    },
    {
      "cell_type": "code",
      "source": [
        "print(\"Enter a long sentence\")\n",
        "sen=input()\n",
        "\n",
        "sp=sen.split()\n",
        "print(sp)\n",
        "for i in (0,sp):\n",
        "  var=i\n",
        "for var in (sp):\n",
        "  count = sen.count(var)\n",
        "  print(f\"{var} = {count}\")\n",
        "\n",
        "\n"
      ],
      "metadata": {
        "id": "VgEIEGi43qvK",
        "outputId": "0aefa473-4ad6-4917-a5ac-1f73fdf17ce8",
        "colab": {
          "base_uri": "https://localhost:8080/"
        }
      },
      "execution_count": 21,
      "outputs": [
        {
          "output_type": "stream",
          "name": "stdout",
          "text": [
            "Enter a long sentence\n",
            "hi hello mansha hey hello mansvi hi\n",
            "['hi', 'hello', 'mansha', 'hey', 'hello', 'mansvi', 'hi']\n",
            "hi = 2\n",
            "hello = 2\n",
            "mansha = 1\n",
            "hey = 1\n",
            "hello = 2\n",
            "mansvi = 1\n",
            "hi = 2\n"
          ]
        }
      ]
    }
  ],
  "metadata": {
    "colab": {
      "provenance": [],
      "authorship_tag": "ABX9TyNTGgpavdBrbIsksFF1RmF5",
      "include_colab_link": true
    },
    "kernelspec": {
      "display_name": "Python 3",
      "name": "python3"
    },
    "language_info": {
      "name": "python"
    }
  },
  "nbformat": 4,
  "nbformat_minor": 0
}