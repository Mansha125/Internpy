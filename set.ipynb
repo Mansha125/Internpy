{
  "cells": [
    {
      "cell_type": "markdown",
      "metadata": {
        "id": "view-in-github",
        "colab_type": "text"
      },
      "source": [
        "<a href=\"https://colab.research.google.com/github/Mansha125/Internpy/blob/Beginning/set.ipynb\" target=\"_parent\"><img src=\"https://colab.research.google.com/assets/colab-badge.svg\" alt=\"Open In Colab\"/></a>"
      ]
    },
    {
      "cell_type": "code",
      "execution_count": null,
      "metadata": {
        "colab": {
          "base_uri": "https://localhost:8080/"
        },
        "id": "RPlBXSPpvVzT",
        "outputId": "9f935bfc-0086-44a6-fba6-8e6219de7dfa"
      },
      "outputs": [
        {
          "name": "stdout",
          "output_type": "stream",
          "text": [
            "{'liook', 'hey'}\n",
            "<class 'set'>\n"
          ]
        }
      ],
      "source": [
        "m_set={\"hey\",\"liook\"}\n",
        "print(m_set)\n",
        "m=type(m_set)\n",
        "print(m)"
      ]
    },
    {
      "cell_type": "code",
      "execution_count": null,
      "metadata": {
        "colab": {
          "base_uri": "https://localhost:8080/",
          "height": 245
        },
        "id": "-eSJsyT8vro2",
        "outputId": "fc6a0770-e177-48ed-c0c4-b69c4bb44da3"
      },
      "outputs": [
        {
          "name": "stdout",
          "output_type": "stream",
          "text": [
            "{'liook', 'hey'}\n"
          ]
        },
        {
          "ename": "TypeError",
          "evalue": "'set' object is not subscriptable",
          "output_type": "error",
          "traceback": [
            "\u001b[0;31m---------------------------------------------------------------------------\u001b[0m",
            "\u001b[0;31mTypeError\u001b[0m                                 Traceback (most recent call last)",
            "\u001b[0;32m<ipython-input-6-f13ec57230d2>\u001b[0m in \u001b[0;36m<cell line: 3>\u001b[0;34m()\u001b[0m\n\u001b[1;32m      1\u001b[0m \u001b[0mm_set\u001b[0m\u001b[0;34m=\u001b[0m\u001b[0;34m{\u001b[0m\u001b[0;34m\"hey\"\u001b[0m\u001b[0;34m,\u001b[0m\u001b[0;34m\"liook\"\u001b[0m\u001b[0;34m}\u001b[0m\u001b[0;34m\u001b[0m\u001b[0;34m\u001b[0m\u001b[0m\n\u001b[1;32m      2\u001b[0m \u001b[0mprint\u001b[0m\u001b[0;34m(\u001b[0m\u001b[0mm_set\u001b[0m\u001b[0;34m)\u001b[0m\u001b[0;34m\u001b[0m\u001b[0;34m\u001b[0m\u001b[0m\n\u001b[0;32m----> 3\u001b[0;31m \u001b[0mt\u001b[0m\u001b[0;34m=\u001b[0m\u001b[0mm_set\u001b[0m\u001b[0;34m[\u001b[0m\u001b[0;36m0\u001b[0m\u001b[0;34m]\u001b[0m\u001b[0;34m\u001b[0m\u001b[0;34m\u001b[0m\u001b[0m\n\u001b[0m\u001b[1;32m      4\u001b[0m \u001b[0mprint\u001b[0m\u001b[0;34m(\u001b[0m\u001b[0mt\u001b[0m\u001b[0;34m)\u001b[0m\u001b[0;34m\u001b[0m\u001b[0;34m\u001b[0m\u001b[0m\n",
            "\u001b[0;31mTypeError\u001b[0m: 'set' object is not subscriptable"
          ]
        }
      ],
      "source": [
        "m_set={\"hey\",\"liook\"}\n",
        "print(m_set)\n",
        "t=m_set[0]\n",
        "print(t)"
      ]
    },
    {
      "cell_type": "code",
      "execution_count": 1,
      "metadata": {
        "colab": {
          "base_uri": "https://localhost:8080/"
        },
        "id": "D9SZKPQgwUEf",
        "outputId": "cd0327e1-3c3d-4dab-a62f-ea24022d836c"
      },
      "outputs": [
        {
          "output_type": "stream",
          "name": "stdout",
          "text": [
            "{'liook', 'hey', 'elf'}\n",
            "{'hey', 'elf'}\n",
            "{'t', 's', '2', 'hey', 'elf', 'e'}\n",
            "set()\n"
          ]
        }
      ],
      "source": [
        "set={\"hey\",\"liook\"}\n",
        "set2={\"hii\",\"heyy\"}\n",
        "set.add(\"elf\")\n",
        "print(set)\n",
        "set.remove(\"liook\")\n",
        "print(set)\n",
        "set.update(\"set2\")\n",
        "print(set)\n",
        "\n",
        "print(set.intersection(set2))"
      ]
    },
    {
      "cell_type": "code",
      "source": [
        "set1={\"hey\",\"liook\",\"hii\"}\n",
        "set2={\"hii\",\"heyy\"}\n",
        "print(set1.intersection(set2))\n",
        "\n"
      ],
      "metadata": {
        "colab": {
          "base_uri": "https://localhost:8080/"
        },
        "id": "aE52GJ4xAzjl",
        "outputId": "f3c1e83a-9480-4841-a737-95f1064aec11"
      },
      "execution_count": 4,
      "outputs": [
        {
          "output_type": "stream",
          "name": "stdout",
          "text": [
            "{'hii'}\n"
          ]
        }
      ]
    },
    {
      "cell_type": "code",
      "source": [
        "set1={\"hey\",\"look\",\"hii\"}\n",
        "set2={\"hii\",\"heyy\"}\n",
        "set1.intersection_update(set2)\n",
        "print(set1)"
      ],
      "metadata": {
        "colab": {
          "base_uri": "https://localhost:8080/"
        },
        "id": "iNRywUskBO01",
        "outputId": "24dc8cab-e874-457a-d7a4-7f178bcbef42"
      },
      "execution_count": 7,
      "outputs": [
        {
          "output_type": "stream",
          "name": "stdout",
          "text": [
            "{'hii'}\n"
          ]
        }
      ]
    },
    {
      "cell_type": "code",
      "source": [
        "set1={\"hey\",\"look\",\"hii\"}\n",
        "set2={\"hii\",\"heyy\"}\n",
        "z=set1.symmetric_difference(set2)\n",
        "print(z)"
      ],
      "metadata": {
        "colab": {
          "base_uri": "https://localhost:8080/"
        },
        "id": "2To6s5kaCEIk",
        "outputId": "841361a3-8b43-4dbc-948a-b24cc0bc8b74"
      },
      "execution_count": 10,
      "outputs": [
        {
          "output_type": "stream",
          "name": "stdout",
          "text": [
            "{'look', 'heyy', 'hey'}\n"
          ]
        }
      ]
    },
    {
      "cell_type": "code",
      "source": [
        "set1={\"hey\",\"look\",\"hii\"}\n",
        "set2={\"hii\",\"heyy\"}\n",
        "z=set1.difference(set2)\n",
        "print(z)"
      ],
      "metadata": {
        "colab": {
          "base_uri": "https://localhost:8080/"
        },
        "id": "XblVEO4WC4mb",
        "outputId": "d503995f-ff0f-40ac-c5c5-69e93b1023ca"
      },
      "execution_count": 14,
      "outputs": [
        {
          "output_type": "stream",
          "name": "stdout",
          "text": [
            "{'look', 'hey'}\n"
          ]
        }
      ]
    }
  ],
  "metadata": {
    "colab": {
      "provenance": [],
      "authorship_tag": "ABX9TyM11WomNaajeDfWli7M8XMg",
      "include_colab_link": true
    },
    "kernelspec": {
      "display_name": "Python 3",
      "name": "python3"
    },
    "language_info": {
      "name": "python"
    }
  },
  "nbformat": 4,
  "nbformat_minor": 0
}