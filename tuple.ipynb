{
  "nbformat": 4,
  "nbformat_minor": 0,
  "metadata": {
    "colab": {
      "provenance": [],
      "authorship_tag": "ABX9TyNmzeVR2HQsH51SXauODFvl",
      "include_colab_link": true
    },
    "kernelspec": {
      "name": "python3",
      "display_name": "Python 3"
    },
    "language_info": {
      "name": "python"
    }
  },
  "cells": [
    {
      "cell_type": "markdown",
      "metadata": {
        "id": "view-in-github",
        "colab_type": "text"
      },
      "source": [
        "<a href=\"https://colab.research.google.com/github/Mansha125/Internpy/blob/main/tuple.ipynb\" target=\"_parent\"><img src=\"https://colab.research.google.com/assets/colab-badge.svg\" alt=\"Open In Colab\"/></a>"
      ]
    },
    {
      "cell_type": "code",
      "execution_count": null,
      "metadata": {
        "colab": {
          "base_uri": "https://localhost:8080/"
        },
        "id": "mSxLJCaHl381",
        "outputId": "3cb1f1ac-c608-42f9-eaa3-499d9573e106"
      },
      "outputs": [
        {
          "output_type": "stream",
          "name": "stdout",
          "text": [
            "hey\n",
            "hi\n",
            "hello\n"
          ]
        }
      ],
      "source": [
        "tup=tuple((\"hey\",\"hi\",\"hello\"))\n",
        "print(tup[0])\n",
        "print(tup[1])\n",
        "print(tup[2])"
      ]
    },
    {
      "cell_type": "code",
      "source": [
        "tup=tuple((\"hey\",\"hi\",\"hello\"))\n",
        "tup[2]=\"hiii\"\n"
      ],
      "metadata": {
        "colab": {
          "base_uri": "https://localhost:8080/",
          "height": 192
        },
        "id": "m9zsWQG8m_Iq",
        "outputId": "4a99e9ff-cb8b-4790-dac8-20c0a1797269"
      },
      "execution_count": null,
      "outputs": [
        {
          "output_type": "error",
          "ename": "TypeError",
          "evalue": "'tuple' object does not support item assignment",
          "traceback": [
            "\u001b[0;31m---------------------------------------------------------------------------\u001b[0m",
            "\u001b[0;31mTypeError\u001b[0m                                 Traceback (most recent call last)",
            "\u001b[0;32m<ipython-input-8-03e64a76dad9>\u001b[0m in \u001b[0;36m<cell line: 2>\u001b[0;34m()\u001b[0m\n\u001b[1;32m      1\u001b[0m \u001b[0mtup\u001b[0m\u001b[0;34m=\u001b[0m\u001b[0mtuple\u001b[0m\u001b[0;34m(\u001b[0m\u001b[0;34m(\u001b[0m\u001b[0;34m\"hey\"\u001b[0m\u001b[0;34m,\u001b[0m\u001b[0;34m\"hi\"\u001b[0m\u001b[0;34m,\u001b[0m\u001b[0;34m\"hello\"\u001b[0m\u001b[0;34m)\u001b[0m\u001b[0;34m)\u001b[0m\u001b[0;34m\u001b[0m\u001b[0;34m\u001b[0m\u001b[0m\n\u001b[0;32m----> 2\u001b[0;31m \u001b[0mtup\u001b[0m\u001b[0;34m[\u001b[0m\u001b[0;36m2\u001b[0m\u001b[0;34m]\u001b[0m\u001b[0;34m=\u001b[0m\u001b[0;34m\"hiii\"\u001b[0m\u001b[0;34m\u001b[0m\u001b[0;34m\u001b[0m\u001b[0m\n\u001b[0m",
            "\u001b[0;31mTypeError\u001b[0m: 'tuple' object does not support item assignment"
          ]
        }
      ]
    },
    {
      "cell_type": "code",
      "source": [
        "tup=tuple((\"hey\",\"hi\",\"hello\"))\n",
        "tuplist=list (tup)\n",
        "print(tuplist)\n",
        "tuplist.pop(2)\n",
        "print(tuplist)\n",
        "tuplist.append(\"greet\")\n",
        "print(tuplist)\n",
        "\n"
      ],
      "metadata": {
        "colab": {
          "base_uri": "https://localhost:8080/"
        },
        "id": "wB3C2W_Cnswx",
        "outputId": "145e0cd6-d0dc-4a2b-a83b-26d3c1b1e759"
      },
      "execution_count": null,
      "outputs": [
        {
          "output_type": "stream",
          "name": "stdout",
          "text": [
            "['hey', 'hi', 'hello']\n",
            "['hey', 'hi']\n",
            "['hey', 'hi', 'greet']\n"
          ]
        }
      ]
    },
    {
      "cell_type": "code",
      "source": [
        "fruits=((\"guava\",\"mango\",\"guava\",\"mango\"))\n",
        "res=[]\n",
        "for i in range(len(fruits)) :\n",
        "  my_fruit=fruits[i]\n",
        "  count=0\n",
        "  for j in range(len(fruits)):\n",
        "    if i==j:\n",
        "      continue\n",
        "    if fruits[i]==fruits[j]:\n",
        "      count+=1\n",
        "  if count>0:\n",
        "    if my_fruit not in res:\n",
        "      res.append(my_fruit)\n",
        "print(res)\n",
        "\n",
        "\n",
        "\n"
      ],
      "metadata": {
        "colab": {
          "base_uri": "https://localhost:8080/"
        },
        "id": "2G9tBXIXpicz",
        "outputId": "c0e80f6f-0976-40ce-81ac-b7ce8c878292"
      },
      "execution_count": 21,
      "outputs": [
        {
          "output_type": "stream",
          "name": "stdout",
          "text": [
            "['guava', 'mango']\n"
          ]
        }
      ]
    },
    {
      "cell_type": "code",
      "source": [],
      "metadata": {
        "id": "yVrCB2KLqUa3"
      },
      "execution_count": null,
      "outputs": []
    }
  ]
}