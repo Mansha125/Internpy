{
  "nbformat": 4,
  "nbformat_minor": 0,
  "metadata": {
    "colab": {
      "provenance": [],
      "authorship_tag": "ABX9TyNVY4NmagO5uoDDzOdYf4J9",
      "include_colab_link": true
    },
    "kernelspec": {
      "name": "python3",
      "display_name": "Python 3"
    },
    "language_info": {
      "name": "python"
    }
  },
  "cells": [
    {
      "cell_type": "markdown",
      "metadata": {
        "id": "view-in-github",
        "colab_type": "text"
      },
      "source": [
        "<a href=\"https://colab.research.google.com/github/Mansha125/Internpy/blob/Beginning/divisibletest.ipynb\" target=\"_parent\"><img src=\"https://colab.research.google.com/assets/colab-badge.svg\" alt=\"Open In Colab\"/></a>"
      ]
    },
    {
      "cell_type": "code",
      "execution_count": null,
      "metadata": {
        "colab": {
          "base_uri": "https://localhost:8080/"
        },
        "id": "vBeeD-pbhl4M",
        "outputId": "64d4fc4e-9b8e-40a5-9fc1-9b0b7f008028"
      },
      "outputs": [
        {
          "output_type": "stream",
          "name": "stdout",
          "text": [
            "Enter two number\n",
            "45\n",
            "45\n",
            "The following operations\n",
            "90\n",
            "0\n",
            "2025\n",
            "1.0\n",
            "0\n"
          ]
        }
      ],
      "source": [
        "print(\"Enter two number\")\n",
        "a=input()\n",
        "b=input()\n",
        "print(\"The following operations\")\n",
        "print(int(a) + int(b))\n",
        "print(int(a) - int(b))\n",
        "print(int(a) * int(b))\n",
        "print(int(a) / int(b))\n",
        "print(int(a) % int(b))"
      ]
    },
    {
      "cell_type": "code",
      "source": [
        "print(\"Enter 3 numbers \")\n",
        "a=input()\n",
        "b=input()\n",
        "c=input()\n",
        "int(a)\n",
        "int(b)\n",
        "int(c)\n",
        "\n",
        "if a>b and a>c  :\n",
        "  print(a,\" is greater\")\n",
        "\n",
        "elif b>a and b>c:\n",
        "  print(b,\" is greater\")\n",
        "\n",
        "elif  c>a and c>b:\n",
        "  print(c,\" is greater\")\n",
        "else:\n",
        "  print(\" Invalid input\")\n",
        "\n",
        "\n",
        "\n",
        "\n",
        "\n",
        "\n",
        "\n"
      ],
      "metadata": {
        "colab": {
          "base_uri": "https://localhost:8080/"
        },
        "id": "KEE1ePdZvF7L",
        "outputId": "d6d490ad-6064-4f30-b463-05e61fcab37b"
      },
      "execution_count": null,
      "outputs": [
        {
          "output_type": "stream",
          "name": "stdout",
          "text": [
            "Enter 3 numbers \n",
            "45\n",
            "87\n",
            "98\n",
            "98  is greater\n"
          ]
        }
      ]
    },
    {
      "cell_type": "code",
      "source": [],
      "metadata": {
        "id": "IYNMldKx1Rl_"
      },
      "execution_count": null,
      "outputs": []
    },
    {
      "cell_type": "code",
      "source": [
        "a=3\n",
        "b=5\n",
        "c=7\n",
        "print(\"Enter number to check divisibility\")\n",
        "x=input()\n",
        "p=int(x)\n",
        "if p%3==0 and p%5==0 and p%7==0 :\n",
        "    print(p,\" is divisible by 3, 5, 7\")\n",
        "elif  p%3==0 and p%5==0:\n",
        "  print(p,\" is divisible by 3, 5\")\n",
        "elif p%5==0 and p%7==0 :\n",
        "  print(p,\" is divisible by 5, 7\")\n",
        "elif p%3==0 and p%7==0:\n",
        "  print(p,\" is divisible by 3, 7\")\n",
        "elif p%3==0:\n",
        "    print(p,\" is divisible by 3\")\n",
        "elif p%5==0:\n",
        "    print(p,\" is divisible by 5\")\n",
        "elif p%7==0:\n",
        "    print(p,\" is divisible by 7\")\n",
        "else:\n",
        "    print(\" Not divisible by any of these\")\n",
        "\n",
        "\n",
        "\n",
        "\n"
      ],
      "metadata": {
        "colab": {
          "base_uri": "https://localhost:8080/"
        },
        "id": "s0xqdubD0KJA",
        "outputId": "c823856e-ae65-416e-a9dd-02e9c2e544b3"
      },
      "execution_count": null,
      "outputs": [
        {
          "output_type": "stream",
          "name": "stdout",
          "text": [
            "Enter number to check divisibility\n",
            "105\n",
            "105  is divisible by 3, 5, 7\n"
          ]
        }
      ]
    },
    {
      "cell_type": "code",
      "source": [
        "print(\"Enter a number\")\n",
        "x=input()\n",
        "a= int(x)\n",
        "if a>10:\n",
        "  print(\"Number is greater than 10 re-execute the program with value less than 10\")\n",
        "elif a<0:\n",
        "  print(\"Negative number\")\n",
        "elif a==1:\n",
        "  print(\"One\")\n",
        "elif a==2:\n",
        "  print(\"Two\")\n",
        "elif a==3:\n",
        "  print(\"Three\")\n",
        "elif a==4:\n",
        "  print(\"Four\")\n",
        "elif a==5:\n",
        "  print(\"Five\")\n",
        "elif a==6:\n",
        "  print(\"Six\")\n",
        "elif a==7:\n",
        "  print(\"Seven\")\n",
        "elif a==8:\n",
        "  print(\"Eight\")\n",
        "elif a==9:\n",
        "  print(\"Nine\")\n",
        "else:\n",
        "  print(\"Ten\")"
      ],
      "metadata": {
        "colab": {
          "base_uri": "https://localhost:8080/"
        },
        "id": "G8rHKkn99Exu",
        "outputId": "35004f69-18c9-4094-c78c-40de0b901b66"
      },
      "execution_count": null,
      "outputs": [
        {
          "output_type": "stream",
          "name": "stdout",
          "text": [
            "Enter a number\n",
            "9\n",
            "Nine\n"
          ]
        }
      ]
    },
    {
      "cell_type": "code",
      "source": [
        "print(\"Enter a number\")\n",
        "x=input()\n",
        "a= int(x)\n",
        "if a>0 or a==0:\n",
        "  print(\" a with value \",a,\" is a positive number\")\n",
        "else:\n",
        " print(\" a with value \",a,\" is a negative number\")"
      ],
      "metadata": {
        "colab": {
          "base_uri": "https://localhost:8080/"
        },
        "id": "oWScwsrM_pnP",
        "outputId": "60428ad9-90cd-4366-a158-fad1eb32f45c"
      },
      "execution_count": null,
      "outputs": [
        {
          "output_type": "stream",
          "name": "stdout",
          "text": [
            "Enter a number\n",
            "-5\n",
            " a with value  -5  is a negative number\n"
          ]
        }
      ]
    }
  ]
}