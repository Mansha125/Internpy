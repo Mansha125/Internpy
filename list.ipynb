{
  "nbformat": 4,
  "nbformat_minor": 0,
  "metadata": {
    "colab": {
      "provenance": [],
      "authorship_tag": "ABX9TyO0fAbDXkgFH6XlH0c10v/V",
      "include_colab_link": true
    },
    "kernelspec": {
      "name": "python3",
      "display_name": "Python 3"
    },
    "language_info": {
      "name": "python"
    }
  },
  "cells": [
    {
      "cell_type": "markdown",
      "metadata": {
        "id": "view-in-github",
        "colab_type": "text"
      },
      "source": [
        "<a href=\"https://colab.research.google.com/github/Mansha125/Internpy/blob/Beginning/list.ipynb\" target=\"_parent\"><img src=\"https://colab.research.google.com/assets/colab-badge.svg\" alt=\"Open In Colab\"/></a>"
      ]
    },
    {
      "cell_type": "code",
      "source": [
        "marks= []\n",
        "num=int (input(\"Enter number of values\"))\n",
        "numbers=int(input(\"Enter a number\"))\n",
        "sum=numbers\n",
        "for n in range(num):\n",
        "  numbers=int(input(\"Enter a number\"))\n",
        "  sum=numbers+sum\n",
        "print(sum)"
      ],
      "metadata": {
        "colab": {
          "base_uri": "https://localhost:8080/"
        },
        "id": "0aaQaxQzdvKw",
        "outputId": "86185a4e-de93-44db-e323-235594eef612"
      },
      "execution_count": null,
      "outputs": [
        {
          "output_type": "stream",
          "name": "stdout",
          "text": [
            "Enter number of values3\n",
            "Enter a number45\n",
            "Enter a number48\n",
            "Enter a number50\n",
            "Enter a number7\n",
            "150\n"
          ]
        }
      ]
    },
    {
      "cell_type": "code",
      "source": [
        "marks= []\n",
        "num=int (input(\"Number of values\"))\n",
        "numbers=int(input(\"Enter a number\"))\n",
        "max=numbers\n",
        "for n in range(0,num):\n",
        "  numbers=int(input(\"Enter a number\"))\n",
        "  if numbers>max:\n",
        "    max=numbers\n",
        "  marks.append(numbers)\n",
        "print(max)\n",
        "\n",
        "\n"
      ],
      "metadata": {
        "colab": {
          "base_uri": "https://localhost:8080/"
        },
        "id": "oda-S5t-g9Oc",
        "outputId": "c2823f9a-dd1f-4ce2-f3ee-8ccfd6ab3b82"
      },
      "execution_count": null,
      "outputs": [
        {
          "output_type": "stream",
          "name": "stdout",
          "text": [
            "Number of values3\n",
            "Enter a number45\n",
            "Enter a number56\n",
            "Enter a number48\n",
            "Enter a number59\n",
            "59\n"
          ]
        }
      ]
    },
    {
      "cell_type": "code",
      "source": [
        "values = [\"aman\", \"ana\", \"sana\", \"sahas\", \"anana\", \"mum\", \"maham\", \"amara\"]\n",
        "new_values = []\n",
        "for val in values:\n",
        "  length=len(val)\n",
        "  if length>2:\n",
        "   if val[0]==val[length-1]:\n",
        "    new_values.append(val)\n",
        "print(new_values)\n",
        "\n"
      ],
      "metadata": {
        "colab": {
          "base_uri": "https://localhost:8080/"
        },
        "id": "deOBL-6bAD42",
        "outputId": "f6babf12-0906-4b50-fbb1-9962d5ef8974"
      },
      "execution_count": 11,
      "outputs": [
        {
          "output_type": "stream",
          "name": "stdout",
          "text": [
            "['ana', 'sahas', 'anana', 'mum', 'maham', 'amara']\n"
          ]
        }
      ]
    }
  ]
}