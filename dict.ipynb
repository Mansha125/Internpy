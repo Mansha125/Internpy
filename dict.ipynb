{
  "nbformat": 4,
  "nbformat_minor": 0,
  "metadata": {
    "colab": {
      "provenance": [],
      "authorship_tag": "ABX9TyMxdJN4lMDiR9r+lnuakbQd",
      "include_colab_link": true
    },
    "kernelspec": {
      "name": "python3",
      "display_name": "Python 3"
    },
    "language_info": {
      "name": "python"
    }
  },
  "cells": [
    {
      "cell_type": "markdown",
      "metadata": {
        "id": "view-in-github",
        "colab_type": "text"
      },
      "source": [
        "<a href=\"https://colab.research.google.com/github/Mansha125/Internpy/blob/Beginning/dict.ipynb\" target=\"_parent\"><img src=\"https://colab.research.google.com/assets/colab-badge.svg\" alt=\"Open In Colab\"/></a>"
      ]
    },
    {
      "cell_type": "code",
      "execution_count": null,
      "metadata": {
        "colab": {
          "base_uri": "https://localhost:8080/",
          "height": 470
        },
        "id": "hcmlgiG-EqLj",
        "outputId": "847e0419-1aad-46fd-c409-8634bb647aa5"
      },
      "outputs": [
        {
          "output_type": "stream",
          "name": "stdout",
          "text": [
            "dict_keys(['name', 'age', 'subject'])\n",
            "dict_values(['mansha', 20, ['mansha', 'mansvi', 'mnnu']])\n",
            "dict_items([('name', 'mansha'), ('age', 20), ('subject', ['mansha', 'mansvi', 'mnnu'])])\n",
            "name mansha\n",
            "dict_items([('name', 'mansvi'), ('age', 20), ('subject', ['mansha', 'mansvi', 'mnnu'])])\n",
            "age 20\n",
            "dict_items([('name', 'mansvi'), ('age', 20), ('subject', ['mansha', 'mansvi', 'mnnu'])])\n",
            "subject ['mansha', 'mansvi', 'mnnu']\n",
            "dict_items([('name', 'mansvi'), ('age', 20), ('subject', ['mansha', 'mansvi', 'mnnu'])])\n",
            "{'name': 'good', 'age': 20, 'subject': ['mansha', 'mansvi', 'mnnu']}\n",
            "{'name': 'good', 'age': 20, 'subject': ['mansha', 'mansvi', 'mnnu'], 'colour': 'black'}\n",
            "{'name': 'good', 'age': 20, 'subject': ['mansha', 'mansvi', 'mnnu'], 'colour': 'black', 'run': 10}\n",
            "{'age': 20, 'subject': ['mansha', 'mansvi', 'mnnu'], 'colour': 'black', 'run': 10}\n",
            "{'age': 20, 'subject': ['mansha', 'mansvi', 'mnnu'], 'colour': 'black'}\n",
            "{'subject': ['mansha', 'mansvi', 'mnnu'], 'colour': 'black'}\n"
          ]
        },
        {
          "output_type": "error",
          "ename": "NameError",
          "evalue": "name 'user' is not defined",
          "traceback": [
            "\u001b[0;31m---------------------------------------------------------------------------\u001b[0m",
            "\u001b[0;31mNameError\u001b[0m                                 Traceback (most recent call last)",
            "\u001b[0;32m<ipython-input-52-7c6c0ac0be21>\u001b[0m in \u001b[0;36m<cell line: 27>\u001b[0;34m()\u001b[0m\n\u001b[1;32m     25\u001b[0m \u001b[0mprint\u001b[0m\u001b[0;34m(\u001b[0m\u001b[0muser\u001b[0m\u001b[0;34m)\u001b[0m\u001b[0;34m\u001b[0m\u001b[0;34m\u001b[0m\u001b[0m\n\u001b[1;32m     26\u001b[0m \u001b[0;32mdel\u001b[0m \u001b[0muser\u001b[0m\u001b[0;34m\u001b[0m\u001b[0;34m\u001b[0m\u001b[0m\n\u001b[0;32m---> 27\u001b[0;31m \u001b[0mprint\u001b[0m\u001b[0;34m(\u001b[0m\u001b[0muser\u001b[0m\u001b[0;34m)\u001b[0m\u001b[0;34m\u001b[0m\u001b[0;34m\u001b[0m\u001b[0m\n\u001b[0m",
            "\u001b[0;31mNameError\u001b[0m: name 'user' is not defined"
          ]
        }
      ],
      "source": [
        "user={\"name\":\"mansha\", \"age\": 20, \"subject\":list((\"mansha\",\"mansvi\",\"mnnu\"))}\n",
        "user[\"subject\"]\n",
        "print(user.keys())\n",
        "print(user.values())\n",
        "print(user.items())\n",
        "for key,value in user.items():\n",
        "  print(key,value)\n",
        "  user[\"name\"]=\"mansvi\"\n",
        "  print(user.items())\n",
        "user.update({\"name\":\"good\"})\n",
        "print(user)\n",
        "user.update({\"colour\":\"black\"})\n",
        "\n",
        "print(user)\n",
        "user[\"run\"]=10\n",
        "print(user)\n",
        "\n",
        "user.pop(\"name\")\n",
        "print(user)\n",
        "\n",
        "user.popitem()\n",
        "print(user)\n",
        "\n",
        "del user[\"age\"]\n",
        "print(user)\n",
        "del user\n",
        "\n"
      ]
    },
    {
      "cell_type": "code",
      "source": [
        "user={\"name\":\"mansha\", \"age\": 20, \"subject\":list((\"mansha\",\"mansvi\",\"mnnu\"))}\n",
        "if user.items()==\"\":\n",
        "  print(\"Empty\")\n",
        "else:\n",
        "  print(\"Not Empty\")\n",
        "\n",
        "  user1={\"name\":\"mansha\", \"age\": 20, \"subject\":list((\"mansha\",\"mansvi\",\"mnnu\"))}\n",
        "if user1.items()==\"\":\n",
        "  print(\"Empty\")\n",
        "else:\n",
        "  print(\"Not Empty\")"
      ],
      "metadata": {
        "colab": {
          "base_uri": "https://localhost:8080/"
        },
        "id": "ZDv_qMPJLo9q",
        "outputId": "c9bbafe6-1df7-4aee-afad-d8fb8df72dc4"
      },
      "execution_count": null,
      "outputs": [
        {
          "output_type": "stream",
          "name": "stdout",
          "text": [
            "Not Empty\n",
            "Not Empty\n"
          ]
        }
      ]
    }
  ]
}