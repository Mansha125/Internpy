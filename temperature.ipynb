{
  "nbformat": 4,
  "nbformat_minor": 0,
  "metadata": {
    "colab": {
      "provenance": [],
      "authorship_tag": "ABX9TyOSxsCmBIOeTN3QaLC7uBOi",
      "include_colab_link": true
    },
    "kernelspec": {
      "name": "python3",
      "display_name": "Python 3"
    },
    "language_info": {
      "name": "python"
    }
  },
  "cells": [
    {
      "cell_type": "markdown",
      "metadata": {
        "id": "view-in-github",
        "colab_type": "text"
      },
      "source": [
        "<a href=\"https://colab.research.google.com/github/Mansha125/Internpy/blob/main/temperature.ipynb\" target=\"_parent\"><img src=\"https://colab.research.google.com/assets/colab-badge.svg\" alt=\"Open In Colab\"/></a>"
      ]
    },
    {
      "cell_type": "code",
      "execution_count": null,
      "metadata": {
        "colab": {
          "base_uri": "https://localhost:8080/"
        },
        "id": "aSaLIjPlr7bN",
        "outputId": "1e8c3896-d3ec-46e6-f414-e7e607766759"
      },
      "outputs": [
        {
          "output_type": "stream",
          "name": "stdout",
          "text": [
            "4\n",
            "45\n",
            "greater number\n",
            "enter a number:4\n",
            "Found on 2th trial\n",
            "countered 4\n"
          ]
        }
      ],
      "source": [
        "import random\n",
        "\n",
        "#loop for random number\n",
        "ran= random.randint(1,20)\n",
        "print(ran)\n",
        "count=1\n",
        "user=int(input())\n",
        "while not(ran==user):\n",
        "\n",
        "  if user<ran:\n",
        "    print(\"smaller number\")\n",
        "    count+=1\n",
        "\n",
        "  if user>ran:\n",
        "    print(\"greater number\")\n",
        "    count+=1\n",
        "  user=int(input(\"enter a number:\"))\n",
        "print(f\"Found on {count}th trial\")\n",
        "if user==ran:\n",
        "  print(\"countered\",ran)\n",
        "\n",
        "\n",
        "\n",
        "\n",
        "\n",
        "\n",
        "\n"
      ]
    },
    {
      "cell_type": "code",
      "source": [
        "print(\"Lets check your grade\")\n",
        "print(\"Enter your percentage\")\n",
        "perc=int(input())\n",
        "if perc<=100 and perc>=90:\n",
        "  grade=\"A+\"\n",
        "  print(f\"Your grade is {grade}\")\n",
        "elif perc<=90 and perc>=85:\n",
        "  grade=\"A\"\n",
        "  print(f\"Your grade is {grade}\")\n",
        "elif perc<=85 and perc>=75:\n",
        "  grade=\"B+\"\n",
        "  print(f\"Your grade is {grade}\")\n",
        "elif perc<=75 and perc>=60:\n",
        "  grade=\"B\"\n",
        "  print(f\"Your grade is {grade}\")\n",
        "else:\n",
        "  grade=\"C\"\n",
        "  print(f\"Your grade is {grade}\")\n"
      ],
      "metadata": {
        "colab": {
          "base_uri": "https://localhost:8080/"
        },
        "id": "B1XhDZ8jzVRR",
        "outputId": "dda9c065-6528-411d-ee2d-9f5a640b7194"
      },
      "execution_count": null,
      "outputs": [
        {
          "output_type": "stream",
          "name": "stdout",
          "text": [
            "Lets check your grade\n",
            "Enter your percentage\n",
            "51\n",
            "Your grade is C\n"
          ]
        }
      ]
    },
    {
      "cell_type": "code",
      "source": [
        "print(\"Enter your Weight in Kilograms and Height in metres\")\n",
        "wgh=int(input(\"weight\"))\n",
        "hgt=int(input(\"height\"))\n",
        "bmi=float(wgh//(hgt*hgt))\n",
        "\n",
        "if bmi<18.5:\n",
        "  print(\"You are Underweight\")\n",
        "elif bmi<=24.9:\n",
        "  print(\"You are Normal\")\n",
        "elif bmi<=29.9:\n",
        "  print(\"You are Overweight\")\n",
        "else:\n",
        "  print(\"You are Obese\")\n",
        "print(\"Your BMI is \",bmi )"
      ],
      "metadata": {
        "id": "4QcsO2wkAUzD",
        "colab": {
          "base_uri": "https://localhost:8080/"
        },
        "outputId": "811d2f32-00c3-4e4c-b89f-49ee2efff384"
      },
      "execution_count": 26,
      "outputs": [
        {
          "output_type": "stream",
          "name": "stdout",
          "text": [
            "Enter your Weight in Kilograms and Height in metres\n",
            "weight45\n",
            "height2\n",
            "You are Underweight\n",
            "Your BMI is  11.0\n"
          ]
        }
      ]
    },
    {
      "cell_type": "code",
      "source": [
        "usertemp=int(input(\"Enter the temperature \"))\n",
        "unitofuser=input(\"From \")\n",
        "print(\"Celsius, Fahrenheit, Kelvin\")\n",
        "changeto=input(\"To\")\n",
        "if unitofuser==\"Celsius\":\n",
        "  if changeto==\"Fahrenheit\":\n",
        "    changed=float(usertemp*(9//5)+32)\n",
        "    print(changed)\n",
        "\n",
        "  if changeto==\"Kelvin\":\n",
        "    changed=float(usertemp+273.15)\n",
        "    print(changed)\n",
        "\n",
        "if unitofuser==\"Fahrenheit\":\n",
        "  if  changeto==\"Celsius\":\n",
        "    changed=float((usertemp-32)*(5//9))\n",
        "    print(changed)\n",
        "\n",
        "  if changeto==\"Kelvin\":\n",
        "    changed=float(((usertemp-32)*(5//9))+273.15)\n",
        "    print(changed)\n",
        "\n",
        "if unitofuser==\"Kelvin\":\n",
        "  if changeto==\"Celsius\":\n",
        "    changed=float(usertemp-273.15)\n",
        "    print(changed)\n",
        "\n",
        "  if changeto==\"Fahrenheit\":\n",
        "    changed=float(((usertemp-273.15)*(9//5))+32)\n",
        "    print(changed)\n"
      ],
      "metadata": {
        "colab": {
          "base_uri": "https://localhost:8080/"
        },
        "id": "cI60v3y-dtnL",
        "outputId": "7e57e3ea-1344-49fd-cd5a-1833b75f5511"
      },
      "execution_count": 2,
      "outputs": [
        {
          "output_type": "stream",
          "name": "stdout",
          "text": [
            "Enter the temperature 45\n",
            "FromCelsius\n",
            "Celsius, Fahrenheit, Kelvin\n",
            "ToKelvin\n",
            "318.15\n"
          ]
        }
      ]
    }
  ]
}